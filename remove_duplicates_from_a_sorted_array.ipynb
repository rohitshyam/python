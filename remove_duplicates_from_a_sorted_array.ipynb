{
  "nbformat": 4,
  "nbformat_minor": 0,
  "metadata": {
    "colab": {
      "name": "remove duplicates  from a sorted array",
      "provenance": [],
      "collapsed_sections": [],
      "authorship_tag": "ABX9TyMMkwZUUD9HqkfLfpvWZnzA",
      "include_colab_link": true
    },
    "kernelspec": {
      "name": "python3",
      "display_name": "Python 3"
    },
    "language_info": {
      "name": "python"
    }
  },
  "cells": [
    {
      "cell_type": "markdown",
      "metadata": {
        "id": "view-in-github",
        "colab_type": "text"
      },
      "source": [
        "<a href=\"https://colab.research.google.com/github/rohitshyam/python/blob/main/remove_duplicates_from_a_sorted_array.ipynb\" target=\"_parent\"><img src=\"https://colab.research.google.com/assets/colab-badge.svg\" alt=\"Open In Colab\"/></a>"
      ]
    },
    {
      "cell_type": "code",
      "execution_count": 6,
      "metadata": {
        "colab": {
          "base_uri": "https://localhost:8080/"
        },
        "id": "evcVvgYboTrY",
        "outputId": "686cff8f-5a99-4dad-e227-c513518ea0d9"
      },
      "outputs": [
        {
          "output_type": "stream",
          "name": "stdout",
          "text": [
            "[1, 2, 3, 4, 5]\n"
          ]
        }
      ],
      "source": [
        "a=[1,1,1,2,3,3,4,5]\n",
        "b=[a[0]]\n",
        "n=len(a)\n",
        "for i in range(1,n):\n",
        "  if a[i]!=a[i-1]:\n",
        "    b=b + [a[i]]\n",
        "print(b)\n",
        "  \n",
        "\n"
      ]
    }
  ]
}