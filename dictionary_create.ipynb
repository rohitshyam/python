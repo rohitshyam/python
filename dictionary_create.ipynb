{
  "nbformat": 4,
  "nbformat_minor": 0,
  "metadata": {
    "colab": {
      "name": "dictionary create",
      "provenance": [],
      "collapsed_sections": [],
      "authorship_tag": "ABX9TyPeonlVHauwbWWC1mlxPFfe",
      "include_colab_link": true
    },
    "kernelspec": {
      "name": "python3",
      "display_name": "Python 3"
    },
    "language_info": {
      "name": "python"
    }
  },
  "cells": [
    {
      "cell_type": "markdown",
      "metadata": {
        "id": "view-in-github",
        "colab_type": "text"
      },
      "source": [
        "<a href=\"https://colab.research.google.com/github/rohitshyam/python/blob/main/dictionary_create.ipynb\" target=\"_parent\"><img src=\"https://colab.research.google.com/assets/colab-badge.svg\" alt=\"Open In Colab\"/></a>"
      ]
    },
    {
      "cell_type": "code",
      "execution_count": 19,
      "metadata": {
        "colab": {
          "base_uri": "https://localhost:8080/"
        },
        "id": "bP9auBTB47ip",
        "outputId": "20638901-eb5f-42f7-fbfd-7d6ddfe42a3b"
      },
      "outputs": [
        {
          "output_type": "stream",
          "name": "stdout",
          "text": [
            "{} <class 'dict'>\n",
            "{} <class 'dict'>\n",
            "{1: 'one', 2: 'two'}\n",
            "{1: 'one', 2: 'two', 3: 'three'}\n",
            "{1: 'one', 2: 'two', 3: '3-three'}\n",
            "items\n",
            "1 one\n",
            "2 two\n",
            "3 3-three\n",
            "keys\n",
            "1\n",
            "2\n",
            "3\n",
            "values\n",
            "one\n",
            "two\n",
            "3-three\n",
            "None\n",
            "one\n",
            "two\n",
            "{1: 'one', 3: '3-three'}\n",
            "{1: 'one'}\n"
          ]
        }
      ],
      "source": [
        "\n",
        "d={}\n",
        "print(d,type(d))\n",
        "d=dict()\n",
        "print(d,type(d))\n",
        "d={1:\"one\",2:\"two\"}\n",
        "print(d)\n",
        "d[3]=\"three\"\n",
        "print(d)\n",
        "d[3]=\"3-three\"#Replace\n",
        "print(d)\n",
        "print(\"items\")\n",
        "for key, value in d.items():\n",
        "     print(key, value)\n",
        "print(\"keys\")\n",
        "for key in d.keys():\n",
        "    print(key)\n",
        "print(\"values\")\n",
        "for value in d.values():\n",
        "     print(value)\n",
        "value=d.get(0)\n",
        "print(value)\n",
        "value=d.get(1)\n",
        "print(value)\n",
        "print(d[2])\n",
        "d.pop(2)\n",
        "print(d)\n",
        "d.popitem()\n",
        "print(d)\n"
      ]
    }
  ]
}