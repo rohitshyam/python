{
  "nbformat": 4,
  "nbformat_minor": 0,
  "metadata": {
    "colab": {
      "name": "decimal to binary",
      "provenance": [],
      "collapsed_sections": [],
      "authorship_tag": "ABX9TyPPbRVsNBGZ+0BKpd4941vh",
      "include_colab_link": true
    },
    "kernelspec": {
      "name": "python3",
      "display_name": "Python 3"
    },
    "language_info": {
      "name": "python"
    }
  },
  "cells": [
    {
      "cell_type": "markdown",
      "metadata": {
        "id": "view-in-github",
        "colab_type": "text"
      },
      "source": [
        "<a href=\"https://colab.research.google.com/github/rohitshyam/python/blob/main/decimal_to_binary.ipynb\" target=\"_parent\"><img src=\"https://colab.research.google.com/assets/colab-badge.svg\" alt=\"Open In Colab\"/></a>"
      ]
    },
    {
      "cell_type": "code",
      "execution_count": 7,
      "metadata": {
        "id": "2fM3yj3NZiSL"
      },
      "outputs": [],
      "source": [
        "def binary(n):\n",
        "  output=\"\"\n",
        "  while n>0:\n",
        "    rem = n %2\n",
        "    n=n//2\n",
        "    output = str(rem) + output\n",
        "  return output\n"
      ]
    },
    {
      "cell_type": "code",
      "source": [
        "n=70\n",
        "output=\"\"\n",
        "while n>0:\n",
        "  rem = n %2\n",
        "  n=n//2\n",
        "  output = str(rem) + output\n",
        "print(output)\n"
      ],
      "metadata": {
        "colab": {
          "base_uri": "https://localhost:8080/"
        },
        "id": "ANPghk0la_lZ",
        "outputId": "19a149f0-a233-4ebd-cf74-56f539e7a572"
      },
      "execution_count": 10,
      "outputs": [
        {
          "output_type": "stream",
          "name": "stdout",
          "text": [
            "1000110\n"
          ]
        }
      ]
    }
  ]
}