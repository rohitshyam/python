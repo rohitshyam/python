{
  "nbformat": 4,
  "nbformat_minor": 0,
  "metadata": {
    "colab": {
      "name": "decimal to binary",
      "provenance": [],
      "collapsed_sections": [],
      "authorship_tag": "ABX9TyMwIxJeYuo0K14cm+sw04vU",
      "include_colab_link": true
    },
    "kernelspec": {
      "name": "python3",
      "display_name": "Python 3"
    },
    "language_info": {
      "name": "python"
    }
  },
  "cells": [
    {
      "cell_type": "markdown",
      "metadata": {
        "id": "view-in-github",
        "colab_type": "text"
      },
      "source": [
        "<a href=\"https://colab.research.google.com/github/rohitshyam/python/blob/main/decimal_to_binary.ipynb\" target=\"_parent\"><img src=\"https://colab.research.google.com/assets/colab-badge.svg\" alt=\"Open In Colab\"/></a>"
      ]
    },
    {
      "cell_type": "code",
      "execution_count": 42,
      "metadata": {
        "id": "2fM3yj3NZiSL"
      },
      "outputs": [],
      "source": [
        "def binary(n):\n",
        "  output=\"\"\n",
        "  sign=\"\"\n",
        "  if  n<0:\n",
        "    sign=\"-\"\n",
        "    n=-n\n",
        "  while n>0:\n",
        "    rem = n %2\n",
        "    n=n//2\n",
        "    output = str(rem) + output\n",
        "  return sign + output\n"
      ]
    },
    {
      "cell_type": "code",
      "source": [
        "a=5\n",
        "b=6\n",
        "c=a|b\n",
        "print(binary(a))\n",
        "print(binary(b))\n",
        "print(binary(c))\n",
        "c=a&b\n",
        "print(binary(c))\n",
        "c=a^b\n",
        "print(binary(c))\n",
        "c=~a\n",
        "print(binary(c))"
      ],
      "metadata": {
        "colab": {
          "base_uri": "https://localhost:8080/"
        },
        "id": "N-nK5JW-pfr9",
        "outputId": "6302b3a4-ea9f-4ac2-cb81-7ad2c0abd4db"
      },
      "execution_count": 46,
      "outputs": [
        {
          "output_type": "stream",
          "name": "stdout",
          "text": [
            "101\n",
            "110\n",
            "111\n",
            "100\n",
            "11\n",
            "-110\n"
          ]
        }
      ]
    },
    {
      "cell_type": "code",
      "source": [
        "a=5\n",
        "print(binary(a))\n",
        "a=~a\n",
        "print(binary(a))\n",
        "a=~a\n",
        "print(binary(a))\n"
      ],
      "metadata": {
        "colab": {
          "base_uri": "https://localhost:8080/"
        },
        "id": "ANPghk0la_lZ",
        "outputId": "721cd267-1a3e-480c-9ab7-349ad7bf2f62"
      },
      "execution_count": 44,
      "outputs": [
        {
          "output_type": "stream",
          "name": "stdout",
          "text": [
            "101\n",
            "-110\n",
            "101\n"
          ]
        }
      ]
    },
    {
      "cell_type": "code",
      "source": [
        ""
      ],
      "metadata": {
        "id": "9gUg3iXMd468"
      },
      "execution_count": null,
      "outputs": []
    }
  ]
}