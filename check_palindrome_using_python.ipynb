{
  "nbformat": 4,
  "nbformat_minor": 0,
  "metadata": {
    "colab": {
      "name": "check palindrome using python ",
      "provenance": [],
      "collapsed_sections": [],
      "authorship_tag": "ABX9TyOUqWJ6Em3unwT0yxGsF+mw",
      "include_colab_link": true
    },
    "kernelspec": {
      "name": "python3",
      "display_name": "Python 3"
    },
    "language_info": {
      "name": "python"
    }
  },
  "cells": [
    {
      "cell_type": "markdown",
      "metadata": {
        "id": "view-in-github",
        "colab_type": "text"
      },
      "source": [
        "<a href=\"https://colab.research.google.com/github/rohitshyam/python/blob/main/check_palindrome_using_python.ipynb\" target=\"_parent\"><img src=\"https://colab.research.google.com/assets/colab-badge.svg\" alt=\"Open In Colab\"/></a>"
      ]
    },
    {
      "cell_type": "code",
      "execution_count": 6,
      "metadata": {
        "colab": {
          "base_uri": "https://localhost:8080/"
        },
        "id": "wF1dqQHK-t6g",
        "outputId": "6c6278d8-97eb-4f9a-d7d8-7886ca6bd8de"
      },
      "outputs": [
        {
          "output_type": "stream",
          "name": "stdout",
          "text": [
            "True\n"
          ]
        }
      ],
      "source": [
        "a=[3,1,2,2,1,3]\n",
        "n=len(a)\n",
        "ispalindrome=True\n",
        "for i in range(n//2):\n",
        "  if a[i]!=a[n-1-i]:\n",
        "    ispalindrome=False\n",
        "    break\n",
        "print(ispalindrome)"
      ]
    },
    {
      "cell_type": "code",
      "source": [
        "a=[3,1,3,4,5,6,7]\n",
        "n=len(a)\n",
        "ispalindrome=True\n",
        "for i in range(n//2):\n",
        "  if a[i]!=a[n-1-i]:\n",
        "    ispalindrome=False\n",
        "    break\n",
        "print(ispalindrome)"
      ],
      "metadata": {
        "colab": {
          "base_uri": "https://localhost:8080/"
        },
        "id": "ImBv-nLUAt7f",
        "outputId": "3b67f2b7-a1ab-499c-9a43-36d62832ff25"
      },
      "execution_count": 8,
      "outputs": [
        {
          "output_type": "stream",
          "name": "stdout",
          "text": [
            "False\n"
          ]
        }
      ]
    }
  ]
}