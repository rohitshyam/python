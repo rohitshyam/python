{
  "nbformat": 4,
  "nbformat_minor": 0,
  "metadata": {
    "colab": {
      "name": "list table",
      "provenance": [],
      "authorship_tag": "ABX9TyMuTuGFs00Xq3/kUHCTBTsX",
      "include_colab_link": true
    },
    "kernelspec": {
      "name": "python3",
      "display_name": "Python 3"
    },
    "language_info": {
      "name": "python"
    }
  },
  "cells": [
    {
      "cell_type": "markdown",
      "metadata": {
        "id": "view-in-github",
        "colab_type": "text"
      },
      "source": [
        "<a href=\"https://colab.research.google.com/github/rohitshyam/python/blob/main/list_table.ipynb\" target=\"_parent\"><img src=\"https://colab.research.google.com/assets/colab-badge.svg\" alt=\"Open In Colab\"/></a>"
      ]
    },
    {
      "cell_type": "code",
      "execution_count": 9,
      "metadata": {
        "colab": {
          "base_uri": "https://localhost:8080/"
        },
        "id": "lI8y7o6iiXlz",
        "outputId": "f31de8e7-a295-45b4-dd66-6a8e6f744ad5"
      },
      "outputs": [
        {
          "output_type": "stream",
          "name": "stdout",
          "text": [
            "[6, 12, 18, 24, 30, 36, 42, 48, 54, 60]\n",
            "[60, 54, 48, 42, 36, 30, 24, 18, 12, 6]\n",
            "[6, 12, 18, 24, 30, 36, 42, 48, 54]\n",
            "[6, 12, 18, 24, 30, 36, 42, 48, 54, 60, 66]\n"
          ]
        }
      ],
      "source": [
        "n=6\n",
        "a=[]\n",
        "for i in range(1,10+1):\n",
        "  a.append(n*i)\n",
        "print(a)\n",
        "n=6\n",
        "a=[]\n",
        "for i in reversed( range(1,10+1)):\n",
        "  a.append(n*i)\n",
        "print(a)\n",
        "n=6\n",
        "a=[]\n",
        "for i in ( range(1,10*1)):\n",
        "  a.append(n*i)\n",
        "print(a)\n",
        "n=6\n",
        "a=[]\n",
        "for i in ( range(1,10+2)):\n",
        "  a.append(n*i)\n",
        "print(a)"
      ]
    }
  ]
}