{
  "nbformat": 4,
  "nbformat_minor": 0,
  "metadata": {
    "colab": {
      "name": "Numeric and Alphabetic Functions",
      "provenance": [],
      "authorship_tag": "ABX9TyO1GsHYjkVAMXtZSjmMPdrb",
      "include_colab_link": true
    },
    "kernelspec": {
      "name": "python3",
      "display_name": "Python 3"
    },
    "language_info": {
      "name": "python"
    }
  },
  "cells": [
    {
      "cell_type": "markdown",
      "metadata": {
        "id": "view-in-github",
        "colab_type": "text"
      },
      "source": [
        "<a href=\"https://colab.research.google.com/github/rohitshyam/python/blob/main/Numeric_and_Alphabetic_Functions.ipynb\" target=\"_parent\"><img src=\"https://colab.research.google.com/assets/colab-badge.svg\" alt=\"Open In Colab\"/></a>"
      ]
    },
    {
      "cell_type": "code",
      "execution_count": 16,
      "metadata": {
        "colab": {
          "base_uri": "https://localhost:8080/"
        },
        "id": "ysOLRAi73muV",
        "outputId": "e9c2b441-bac9-4f76-a341-4e6863de9c3b"
      },
      "outputs": [
        {
          "output_type": "stream",
          "name": "stdout",
          "text": [
            "0\n",
            "00\n",
            "000\n",
            "1\n",
            "12\n",
            "123\n",
            "A\n",
            "AB\n",
            "ABC\n"
          ]
        }
      ],
      "source": [
        "#range (start=0, end, step=1)\n",
        "#print(ord('0'))\n",
        "#print(chr(65))\n",
        "\"\"\"\n",
        "1\n",
        "12\n",
        "123\n",
        "\n",
        "a\n",
        "AB\n",
        "ABC\n",
        "\"\"\"\n",
        "n=3\n",
        "for row in range(1,n+1):\n",
        "  for col in range(1,row+1):\n",
        "    print(0,end=\"\")\n",
        "  print()\n",
        "for row in range(1,n+1):\n",
        "  for col in range(1,row+1):\n",
        "    print(col,end=\"\")\n",
        "  print()\n",
        "value=ord('A')\n",
        "for row in range(1,n+1):\n",
        "  for col in range(1,row+1):\n",
        "    ch=chr(value + col-1)\n",
        "    print(ch,end=\"\")\n",
        "  print()"
      ]
    }
  ]
}