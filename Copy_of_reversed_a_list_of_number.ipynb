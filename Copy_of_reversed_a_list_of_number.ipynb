{
  "nbformat": 4,
  "nbformat_minor": 0,
  "metadata": {
    "colab": {
      "name": "Copy of reversed a list of number",
      "provenance": [],
      "collapsed_sections": [],
      "authorship_tag": "ABX9TyOgWAlFp1ikEZ9s7KQSRa7y",
      "include_colab_link": true
    },
    "kernelspec": {
      "name": "python3",
      "display_name": "Python 3"
    },
    "language_info": {
      "name": "python"
    }
  },
  "cells": [
    {
      "cell_type": "markdown",
      "metadata": {
        "id": "view-in-github",
        "colab_type": "text"
      },
      "source": [
        "<a href=\"https://colab.research.google.com/github/rohitshyam/python/blob/main/Copy_of_reversed_a_list_of_number.ipynb\" target=\"_parent\"><img src=\"https://colab.research.google.com/assets/colab-badge.svg\" alt=\"Open In Colab\"/></a>"
      ]
    },
    {
      "cell_type": "code",
      "execution_count": null,
      "metadata": {
        "colab": {
          "base_uri": "https://localhost:8080/"
        },
        "id": "evcVvgYboTrY",
        "outputId": "686cff8f-5a99-4dad-e227-c513518ea0d9"
      },
      "outputs": [
        {
          "output_type": "stream",
          "name": "stdout",
          "text": [
            "[1, 2, 3, 4, 5]\n"
          ]
        }
      ],
      "source": [
        "a=[1,1,1,2,3,3,4,5]\n",
        "b=[a[0]]\n",
        "n=len(a)\n",
        "for i in range(1,n):\n",
        "  if a[i]!=a[i-1]:\n",
        "    b=b + [a[i]]\n",
        "print(b)\n",
        "  \n",
        "\n"
      ]
    },
    {
      "cell_type": "code",
      "source": [
        ""
      ],
      "metadata": {
        "id": "uq4sVOSheMNL"
      },
      "execution_count": null,
      "outputs": []
    },
    {
      "cell_type": "code",
      "source": [
        "a=[1,2,3,4]\n",
        "print(a)\n",
        "n=len(a)\n",
        "for i in range(n//2):\n",
        "  a[i],a[n-1-i]=a[n-1-i],a[i]\n",
        "print(a)"
      ],
      "metadata": {
        "colab": {
          "base_uri": "https://localhost:8080/"
        },
        "id": "MhgvB7ctEc8S",
        "outputId": "4d09030d-70dd-4dcf-b2ea-c56ecea0c4e5"
      },
      "execution_count": null,
      "outputs": [
        {
          "output_type": "stream",
          "name": "stdout",
          "text": [
            "[1, 2, 3, 4]\n",
            "[4, 3, 2, 1]\n"
          ]
        }
      ]
    },
    {
      "cell_type": "code",
      "source": [
        "a=[1,2,3,4]\n",
        "n=len(a)\n",
        "ispalindrome=True\n",
        "for i in range(n//2):\n",
        "  if a[i]!=a[n-1-i]:\n",
        "    ispalindrome=False\n",
        "    break\n",
        "print(ispalindrome)\n"
      ],
      "metadata": {
        "colab": {
          "base_uri": "https://localhost:8080/"
        },
        "id": "wZR5EMOOF3C3",
        "outputId": "f22969da-eff0-4d0a-b992-769f4f100865"
      },
      "execution_count": null,
      "outputs": [
        {
          "output_type": "stream",
          "name": "stdout",
          "text": [
            "False\n"
          ]
        }
      ]
    }
  ]
}