{
  "nbformat": 4,
  "nbformat_minor": 0,
  "metadata": {
    "colab": {
      "name": "Untitled7.ipynb",
      "provenance": [],
      "authorship_tag": "ABX9TyO6HfRUOTkfbC8CexVgWxTE",
      "include_colab_link": true
    },
    "kernelspec": {
      "name": "python3",
      "display_name": "Python 3"
    },
    "language_info": {
      "name": "python"
    }
  },
  "cells": [
    {
      "cell_type": "markdown",
      "metadata": {
        "id": "view-in-github",
        "colab_type": "text"
      },
      "source": [
        "<a href=\"https://colab.research.google.com/github/rohitshyam/python/blob/main/Untitled7.ipynb\" target=\"_parent\"><img src=\"https://colab.research.google.com/assets/colab-badge.svg\" alt=\"Open In Colab\"/></a>"
      ]
    },
    {
      "cell_type": "code",
      "execution_count": 10,
      "metadata": {
        "colab": {
          "base_uri": "https://localhost:8080/"
        },
        "id": "FGtSsj2L7tQr",
        "outputId": "d6b8a74e-8786-4afd-a6b9-cb3f4b99dc6e"
      },
      "outputs": [
        {
          "output_type": "stream",
          "name": "stdout",
          "text": [
            "43.5\n"
          ]
        }
      ],
      "source": [
        "a=7*8\n",
        "b=7+7*7/7-1.5\n",
        "print(a-b)"
      ]
    },
    {
      "cell_type": "code",
      "source": [
        "print ('radhekrishna')\n",
        "print ('rohit yadav')\n",
        "print ('shyam yadav')\n",
        "\n"
      ],
      "metadata": {
        "colab": {
          "base_uri": "https://localhost:8080/"
        },
        "id": "PPzKRiGJBQrS",
        "outputId": "7b729508-c74a-485c-ae85-5651fd8d394c"
      },
      "execution_count": 16,
      "outputs": [
        {
          "output_type": "stream",
          "name": "stdout",
          "text": [
            "radhekrishna\n",
            "rohit yadav\n",
            "shyam yadav\n"
          ]
        }
      ]
    },
    {
      "cell_type": "code",
      "source": [
        "a=[10]\n",
        "for n in range (1,11):\n",
        "  table=[]\n",
        "  for i in range (1,11):\n",
        "    table.append(n*i)\n",
        "  a.append(table)\n",
        "for itm in a:\n",
        "  print(itm)"
      ],
      "metadata": {
        "colab": {
          "base_uri": "https://localhost:8080/"
        },
        "id": "02-gC97nc2z3",
        "outputId": "d10efd61-b836-48c6-894d-d6ba074942de"
      },
      "execution_count": 22,
      "outputs": [
        {
          "output_type": "stream",
          "name": "stdout",
          "text": [
            "10\n",
            "[1, 2, 3, 4, 5, 6, 7, 8, 9, 10]\n",
            "[2, 4, 6, 8, 10, 12, 14, 16, 18, 20]\n",
            "[3, 6, 9, 12, 15, 18, 21, 24, 27, 30]\n",
            "[4, 8, 12, 16, 20, 24, 28, 32, 36, 40]\n",
            "[5, 10, 15, 20, 25, 30, 35, 40, 45, 50]\n",
            "[6, 12, 18, 24, 30, 36, 42, 48, 54, 60]\n",
            "[7, 14, 21, 28, 35, 42, 49, 56, 63, 70]\n",
            "[8, 16, 24, 32, 40, 48, 56, 64, 72, 80]\n",
            "[9, 18, 27, 36, 45, 54, 63, 72, 81, 90]\n",
            "[10, 20, 30, 40, 50, 60, 70, 80, 90, 100]\n"
          ]
        }
      ]
    },
    {
      "cell_type": "code",
      "source": [
        "a=[18,15,8,9,20]\n",
        "print(a)\n",
        "a=[897,6,8,6,8,8,6,6,7,9,8]\n",
        "print(a)\n",
        "\n"
      ],
      "metadata": {
        "colab": {
          "base_uri": "https://localhost:8080/"
        },
        "id": "7qz868rd_PDs",
        "outputId": "169c1fe6-96f9-401f-8fb1-1213a0094562"
      },
      "execution_count": 23,
      "outputs": [
        {
          "output_type": "stream",
          "name": "stdout",
          "text": [
            "[18, 15, 8, 9, 20]\n",
            "[897, 6, 8, 6, 8, 8, 6, 6, 7, 9, 8]\n"
          ]
        }
      ]
    }
  ]
}