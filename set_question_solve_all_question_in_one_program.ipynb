{
  "nbformat": 4,
  "nbformat_minor": 0,
  "metadata": {
    "colab": {
      "name": "set question solve all question in one program",
      "provenance": [],
      "collapsed_sections": [],
      "authorship_tag": "ABX9TyP/bQx21EFYHabOxxCUQJyc",
      "include_colab_link": true
    },
    "kernelspec": {
      "name": "python3",
      "display_name": "Python 3"
    },
    "language_info": {
      "name": "python"
    }
  },
  "cells": [
    {
      "cell_type": "markdown",
      "metadata": {
        "id": "view-in-github",
        "colab_type": "text"
      },
      "source": [
        "<a href=\"https://colab.research.google.com/github/rohitshyam/python/blob/main/set_question_solve_all_question_in_one_program.ipynb\" target=\"_parent\"><img src=\"https://colab.research.google.com/assets/colab-badge.svg\" alt=\"Open In Colab\"/></a>"
      ]
    },
    {
      "cell_type": "code",
      "execution_count": 22,
      "metadata": {
        "colab": {
          "base_uri": "https://localhost:8080/"
        },
        "id": "omRylUTz1U0K",
        "outputId": "dc2ba75a-42c0-4073-d507-a882930c2a37"
      },
      "outputs": [
        {
          "output_type": "stream",
          "name": "stdout",
          "text": [
            "intersection of three setsis= {'java'}\n",
            "difference {'c'}\n",
            "union of three setsis= {'python', 'pascal', 'c++', 'c', 'java'}\n",
            "union of three setsis= {'python', 'pascal', 'c++', 'c', 'java'}\n",
            "{'python', 'pascal', 'c++', 'c', 'java'}\n",
            "python {'C', 'B'}\n",
            "Answer =  python {'C', 'B'}\n",
            "pascal {'C'}\n",
            "c++ {'B', 'A'}\n",
            "Answer =  c++ {'B', 'A'}\n",
            "c {'C', 'A'}\n",
            "Answer =  c {'C', 'A'}\n",
            "java {'C', 'B', 'A'}\n"
          ]
        }
      ],
      "source": [
        "A={\"c\",\"c++\",\"java\"}\n",
        "B={\"c++\",\"java\",\"python\"}\n",
        "C={\"java\",\"python\",\"c\",\"pascal\"}\n",
        "print(\"intersection of three setsis=\",A.intersection (B).intersection(C))\n",
        "A={\"c\",\"c++\",\"java\"}\n",
        "B={\"c++\",\"java\",\"python\"}\n",
        "diff=A.difference(B)\n",
        "print(\"difference\",diff)\n",
        "A={\"c\",\"c++\",\"java\"}\n",
        "B={\"c++\",\"java\",\"python\"}\n",
        "C={\"java\",\"python\",\"c\",\"pascal\"}\n",
        "print(\"union of three setsis=\",A.union (B).union(C))\n",
        "A={\"c\",\"c++\",\"java\"}\n",
        "B={\"c++\",\"java\",\"python\"}\n",
        "C={\"java\",\"python\",\"c\",\"pascal\"}\n",
        "print(\"union of three setsis=\",A.union (B).union(C))\n",
        "languages=A.union(B).union(C)\n",
        "print(languages)\n",
        "for language in languages:\n",
        "  s=set()\n",
        "  if language in A:\n",
        "    s.add(\"A\")\n",
        "  if language in B:\n",
        "    s.add(\"B\")\n",
        "  if language in C:\n",
        "    s.add(\"C\")\n",
        "  print(language,s)\n",
        "  if len(s)==2:\n",
        "    print('Answer = ', language,s)\n",
        "\n"
      ]
    },
    {
      "cell_type": "code",
      "source": [
        "A={\"c\",\"c++\",\"java\"}\n",
        "B={\"c++\",\"java\",\"python\"}\n",
        "C={\"java\",\"python\",\"c\",\"pascal\"}\n",
        "print(\"disjoint\",A.isdisjoint(B))\n",
        "print(\"disjoint\",A.isdisjoint(C))"
      ],
      "metadata": {
        "colab": {
          "base_uri": "https://localhost:8080/"
        },
        "id": "cFoTOCD2-3c1",
        "outputId": "57c7f291-a22f-4ebd-db91-ae29dfb3124c"
      },
      "execution_count": 16,
      "outputs": [
        {
          "output_type": "stream",
          "name": "stdout",
          "text": [
            "disjoint False\n",
            "disjoint False\n"
          ]
        }
      ]
    },
    {
      "cell_type": "code",
      "source": [
        "A={\"c\",\"c++\",\"java\"}\n",
        "B={\"c++\",\"java\",\"python\"}\n",
        "diff=A.difference(B)\n",
        "print(\"difference\",diff)\n",
        "\n"
      ],
      "metadata": {
        "colab": {
          "base_uri": "https://localhost:8080/"
        },
        "id": "7KiekTO94235",
        "outputId": "c76d55c8-449d-484e-8d47-d2d150291d70"
      },
      "execution_count": 11,
      "outputs": [
        {
          "output_type": "stream",
          "name": "stdout",
          "text": [
            "difference {'c'}\n"
          ]
        }
      ]
    }
  ]
}