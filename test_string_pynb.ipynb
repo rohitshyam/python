{
  "nbformat": 4,
  "nbformat_minor": 0,
  "metadata": {
    "colab": {
      "name": "test_string pynb",
      "provenance": [],
      "authorship_tag": "ABX9TyN+0t2A/p0ByCnemqzhptMr",
      "include_colab_link": true
    },
    "kernelspec": {
      "name": "python3",
      "display_name": "Python 3"
    },
    "language_info": {
      "name": "python"
    }
  },
  "cells": [
    {
      "cell_type": "markdown",
      "metadata": {
        "id": "view-in-github",
        "colab_type": "text"
      },
      "source": [
        "<a href=\"https://colab.research.google.com/github/rohitshyam/python/blob/main/test_string_pynb.ipynb\" target=\"_parent\"><img src=\"https://colab.research.google.com/assets/colab-badge.svg\" alt=\"Open In Colab\"/></a>"
      ]
    },
    {
      "cell_type": "code",
      "execution_count": 3,
      "metadata": {
        "colab": {
          "base_uri": "https://localhost:8080/"
        },
        "id": "eST79lTvUF8Y",
        "outputId": "17a7f9d2-772c-41f3-ab3f-8dd9ba2090c0"
      },
      "outputs": [
        {
          "output_type": "stream",
          "name": "stdout",
          "text": [
            "the original string:harshshyamrohit\n",
            "string after sorting:aahhhhimorrssty\n",
            "the original string:hashyhit\n",
            "string after sorting:ahhhisty\n"
          ]
        }
      ],
      "source": [
        "\n",
        "test_string=\"harshshyamrohit\"\n",
        "print(\"the original string:\"+str(test_string))\n",
        "res=''.join(sorted(test_string))\n",
        "print(\"string after sorting:\"+str(res))\n",
        "test_string=\"hashyhit\"\n",
        "print(\"the original string:\"+str(test_string))\n",
        "res=''.join(sorted(test_string))\n",
        "print(\"string after sorting:\"+str(res))\n"
      ]
    },
    {
      "cell_type": "code",
      "source": [
        ""
      ],
      "metadata": {
        "id": "XXzrZW5FXRHs"
      },
      "execution_count": null,
      "outputs": []
    },
    {
      "cell_type": "code",
      "source": [
        ""
      ],
      "metadata": {
        "id": "6AQuoQKlWmU2"
      },
      "execution_count": null,
      "outputs": []
    }
  ]
}