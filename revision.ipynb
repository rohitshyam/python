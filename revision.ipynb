{
  "nbformat": 4,
  "nbformat_minor": 0,
  "metadata": {
    "colab": {
      "name": "revision",
      "provenance": [],
      "collapsed_sections": [],
      "authorship_tag": "ABX9TyNWEnykOQNmeOqS7yXTHu2U",
      "include_colab_link": true
    },
    "kernelspec": {
      "name": "python3",
      "display_name": "Python 3"
    },
    "language_info": {
      "name": "python"
    }
  },
  "cells": [
    {
      "cell_type": "markdown",
      "metadata": {
        "id": "view-in-github",
        "colab_type": "text"
      },
      "source": [
        "<a href=\"https://colab.research.google.com/github/rohitshyam/python/blob/main/revision.ipynb\" target=\"_parent\"><img src=\"https://colab.research.google.com/assets/colab-badge.svg\" alt=\"Open In Colab\"/></a>"
      ]
    },
    {
      "cell_type": "code",
      "execution_count": 7,
      "metadata": {
        "id": "8sYiQSiGi2aS"
      },
      "outputs": [],
      "source": [
        "def binary(n):\n",
        "  output=\"\"\n",
        "  while n>0:\n",
        "     rem=n%2\n",
        "     n=n//2\n",
        "     output=str(rem)+output\n",
        "  return (output)"
      ]
    },
    {
      "cell_type": "code",
      "source": [
        "r=31\n",
        "g=32\n",
        "b=33\n",
        "print(\"r=\",binary(r))\n",
        "print(\"g=\",binary(g))\n",
        "print(\"b=\",binary(b))"
      ],
      "metadata": {
        "colab": {
          "base_uri": "https://localhost:8080/"
        },
        "id": "MIDbfeJSrjoC",
        "outputId": "301f2aa8-1672-4aa9-a3c2-23b0bfd47070"
      },
      "execution_count": 24,
      "outputs": [
        {
          "output_type": "stream",
          "name": "stdout",
          "text": [
            "r= 11111\n",
            "g= 100000\n",
            "b= 100001\n"
          ]
        }
      ]
    },
    {
      "cell_type": "code",
      "source": [
        "a=8\n",
        "print(binary(a),a)\n",
        "a=a>>2\n",
        "print(binary(a),a)"
      ],
      "metadata": {
        "colab": {
          "base_uri": "https://localhost:8080/"
        },
        "id": "j2Hn9cUynddT",
        "outputId": "a253f4d9-8136-419c-ff62-e48415616494"
      },
      "execution_count": 23,
      "outputs": [
        {
          "output_type": "stream",
          "name": "stdout",
          "text": [
            "1000 8\n",
            "10 2\n"
          ]
        }
      ]
    },
    {
      "cell_type": "code",
      "source": [
        "a=5\n",
        "b=6\n",
        "c=a|b\n",
        "print(binary(a))\n",
        "print(binary(b))\n",
        "print(binary(c))\n",
        "c=a&b\n",
        "print(binary (c))"
      ],
      "metadata": {
        "colab": {
          "base_uri": "https://localhost:8080/"
        },
        "id": "Whxyq1U8jr4z",
        "outputId": "9463a23e-72bd-4506-c4e6-62ed87d5b4e4"
      },
      "execution_count": 11,
      "outputs": [
        {
          "output_type": "stream",
          "name": "stdout",
          "text": [
            "101\n",
            "110\n",
            "111\n",
            "100\n"
          ]
        }
      ]
    }
  ]
}