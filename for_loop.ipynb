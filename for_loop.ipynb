{
  "nbformat": 4,
  "nbformat_minor": 0,
  "metadata": {
    "colab": {
      "name": "for loop",
      "provenance": [],
      "authorship_tag": "ABX9TyPgbpji64hiAQ++PDvw9KWC",
      "include_colab_link": true
    },
    "kernelspec": {
      "name": "python3",
      "display_name": "Python 3"
    },
    "language_info": {
      "name": "python"
    }
  },
  "cells": [
    {
      "cell_type": "markdown",
      "metadata": {
        "id": "view-in-github",
        "colab_type": "text"
      },
      "source": [
        "<a href=\"https://colab.research.google.com/github/rohitshyam/python/blob/main/for_loop.ipynb\" target=\"_parent\"><img src=\"https://colab.research.google.com/assets/colab-badge.svg\" alt=\"Open In Colab\"/></a>"
      ]
    },
    {
      "cell_type": "code",
      "execution_count": null,
      "metadata": {
        "id": "fb5VFrUZJg1o"
      },
      "outputs": [],
      "source": [
        ""
      ]
    },
    {
      "cell_type": "code",
      "source": [
        "\n",
        "#range(start=0,end,step=1)\n",
        "r=range(10)\n",
        "for i in r:\n",
        "  print(i,end=',')\n",
        "print()\n",
        "r=range(1,11)\n",
        "for i in r:\n",
        "  print(i,end=',')\n",
        "print()\n",
        "r=range(2,11,2)\n",
        "for i in r:\n",
        "  print(i,end=',')\n",
        "print()\n",
        "r=range(10,0,-1)\n",
        "for i in r:\n",
        "  print(i,end=',')\n",
        "print()"
      ],
      "metadata": {
        "colab": {
          "base_uri": "https://localhost:8080/"
        },
        "id": "u3p0r8wTJnGK",
        "outputId": "1ebcb2a5-8e40-4591-df7c-11deb6eec769"
      },
      "execution_count": 8,
      "outputs": [
        {
          "output_type": "stream",
          "name": "stdout",
          "text": [
            "0,1,2,3,4,5,6,7,8,9,\n",
            "1,2,3,4,5,6,7,8,9,10,\n",
            "2,4,6,8,10,\n",
            "10,9,8,7,6,5,4,3,2,1,\n"
          ]
        }
      ]
    }
  ]
}