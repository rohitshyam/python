{
  "nbformat": 4,
  "nbformat_minor": 0,
  "metadata": {
    "colab": {
      "name": "using set concept in python",
      "provenance": [],
      "collapsed_sections": [],
      "authorship_tag": "ABX9TyNCesifjskh80+lAoUpb1pB",
      "include_colab_link": true
    },
    "kernelspec": {
      "name": "python3",
      "display_name": "Python 3"
    },
    "language_info": {
      "name": "python"
    }
  },
  "cells": [
    {
      "cell_type": "markdown",
      "metadata": {
        "id": "view-in-github",
        "colab_type": "text"
      },
      "source": [
        "<a href=\"https://colab.research.google.com/github/rohitshyam/python/blob/main/using_set_concept_in_python.ipynb\" target=\"_parent\"><img src=\"https://colab.research.google.com/assets/colab-badge.svg\" alt=\"Open In Colab\"/></a>"
      ]
    },
    {
      "cell_type": "code",
      "execution_count": 23,
      "metadata": {
        "colab": {
          "base_uri": "https://localhost:8080/"
        },
        "id": "8zooP6_gDOKV",
        "outputId": "8df3dec2-f2cf-4c35-9972-dfae1765a8ca"
      },
      "outputs": [
        {
          "output_type": "stream",
          "name": "stdout",
          "text": [
            "{1, 2, 3, 4} {1, 2, 3, 4}\n",
            "<class 'set'> <class 'set'>\n",
            "{1, 2, 3, 4, 5}\n",
            "{1, 2, 3, 4, 5, 6, 7, 8}\n",
            "{1, 2, 3, 5, 6, 7, 8}\n",
            "{1, 2, 3, 6, 7, 8}\n",
            "{2, 3, 6, 7, 8} 1\n",
            "set()\n",
            "union {'b', 'a', 'c'}\n",
            "union {'b', 'a', 'c'}\n",
            "intersection {'c'}\n",
            "intersection {'c'}\n",
            "difference {'a'}\n",
            "difference {'a'}\n",
            "symmetric difference {'b', 'a'}\n",
            "symmetric difference {'b', 'a'}\n",
            "subset False\n",
            "subset False\n",
            "subset True\n",
            "subset True\n",
            "disjoint False\n",
            "disjoint True\n",
            "intersection update {2}\n",
            "difference update {1}\n",
            "symmetric difference update {1, 3}\n"
          ]
        }
      ],
      "source": [
        "from typing import Union\n",
        "s1=set([1,2,3,4])\n",
        "s2={1,2,3,4}\n",
        "print(s1,s2)\n",
        "print(type(s1),type(s2))\n",
        "s1.add(5)\n",
        "print(s1)\n",
        "s1.update([1,2,3,4,5,6,7,8])\n",
        "print(s1)\n",
        "s1.remove(4)\n",
        "print(s1)\n",
        "s1.discard(5)\n",
        "print(s1)\n",
        "s1.discard(5)\n",
        "poppedelement=s1.pop()\n",
        "print(s1,poppedelement)\n",
        "s1.clear()\n",
        "print(s1)\n",
        "cricketers={\"a\",\"c\"}\n",
        "footballers={\"b\",\"c\"}\n",
        "u=cricketers.union (footballers)\n",
        "print(\"union\",u)\n",
        "u=cricketers.copy()\n",
        "u.update(footballers)\n",
        "print(\"union\",u)\n",
        "i=cricketers.intersection(footballers)\n",
        "print(\"intersection\",i)\n",
        "i=cricketers.copy()\n",
        "i&=footballers \n",
        "print(\"intersection\",i) \n",
        "diff=cricketers.difference(footballers)                                                                                          \n",
        "print(\"difference\",diff)\n",
        "diff=cricketers-footballers\n",
        "print(\"difference\",diff)\n",
        "symmdiff=cricketers.symmetric_difference(footballers)\n",
        "print(\"symmetric difference\",symmdiff)\n",
        "symdiff=cricketers.copy()\n",
        "symdiff ^=footballers\n",
        "print(\"symmetric difference\",symmdiff)\n",
        "a={1,2,3}\n",
        "b={1,2}\n",
        "print(\"subset\",a.issubset(b))\n",
        "print(\"subset\",a <=b)\n",
        "print(\"subset\",b.issubset(a))\n",
        "print(\"subset\",b <=a)\n",
        "a={1,2}\n",
        "b={2,3}\n",
        "c={3,4}\n",
        "print(\"disjoint\",a.isdisjoint(b))\n",
        "print(\"disjoint\",a.isdisjoint(c))\n",
        "a={1,2}\n",
        "b={2,3}\n",
        "c={3,4}\n",
        "d=a.copy()\n",
        "d.intersection_update(b)\n",
        "print(\"intersection update\",d)\n",
        "d=a.copy()\n",
        "d.difference_update(b)\n",
        "print(\"difference update\",d)\n",
        "d=a.copy()\n",
        "d.symmetric_difference_update(b)\n",
        "print(\"symmetric difference update\",d)"
      ]
    },
    {
      "cell_type": "code",
      "source": [
        ""
      ],
      "metadata": {
        "id": "JtA_i26qZmvU"
      },
      "execution_count": null,
      "outputs": []
    }
  ]
}