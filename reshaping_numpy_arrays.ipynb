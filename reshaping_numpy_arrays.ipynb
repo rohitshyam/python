{
  "nbformat": 4,
  "nbformat_minor": 0,
  "metadata": {
    "colab": {
      "provenance": [],
      "include_colab_link": true
    },
    "kernelspec": {
      "name": "python3",
      "display_name": "Python 3"
    },
    "language_info": {
      "name": "python"
    }
  },
  "cells": [
    {
      "cell_type": "markdown",
      "metadata": {
        "id": "view-in-github",
        "colab_type": "text"
      },
      "source": [
        "<a href=\"https://colab.research.google.com/github/rohitshyam/python/blob/main/reshaping_numpy_arrays.ipynb\" target=\"_parent\"><img src=\"https://colab.research.google.com/assets/colab-badge.svg\" alt=\"Open In Colab\"/></a>"
      ]
    },
    {
      "cell_type": "markdown",
      "source": [
        "**Reshaping Numpy Arrays**\n",
        "import statements"
      ],
      "metadata": {
        "id": "MaIQpBsYEqMG"
      }
    },
    {
      "cell_type": "code",
      "execution_count": null,
      "metadata": {
        "id": "uqw9N8Qb4nFj"
      },
      "outputs": [],
      "source": [
        "import numpy as np"
      ]
    },
    {
      "cell_type": "markdown",
      "source": [
        "Create the array and print the array and its shape"
      ],
      "metadata": {
        "id": "1WVSff43FQw5"
      }
    },
    {
      "cell_type": "code",
      "source": [
        "a=np.array([1,2,3,4,5,6,7,8,9,10,11,12])\n",
        "print(a)\n",
        "print(a.shape)"
      ],
      "metadata": {
        "colab": {
          "base_uri": "https://localhost:8080/"
        },
        "id": "Ajm2DJUzFWO1",
        "outputId": "0b654a5a-9cdd-468d-c3f0-2f1fd73715fd"
      },
      "execution_count": null,
      "outputs": [
        {
          "output_type": "stream",
          "name": "stdout",
          "text": [
            "[ 1  2  3  4  5  6  7  8  9 10 11 12]\n",
            "(12,)\n"
          ]
        }
      ]
    },
    {
      "cell_type": "markdown",
      "source": [
        "Reshape it"
      ],
      "metadata": {
        "id": "UuvHLg6KF9xm"
      }
    },
    {
      "cell_type": "code",
      "source": [
        "a=a.reshape(4,3 )# 4 X 3\n",
        "print(a)\n",
        "print(a.shape)\n",
        "a=a.reshape(2,3,2 )# 2 X 3 X 2\n",
        "print(a)\n",
        "print(a.shape)\n",
        "a=a.reshape(1,12 )# 1 X 12\n",
        "print(a)\n",
        "print(a.shape)\n"
      ],
      "metadata": {
        "colab": {
          "base_uri": "https://localhost:8080/"
        },
        "id": "Z6eGiBE3GBTr",
        "outputId": "5df52c95-aec1-4dde-fc77-2df5e82323dc"
      },
      "execution_count": null,
      "outputs": [
        {
          "output_type": "stream",
          "name": "stdout",
          "text": [
            "[[ 1  2  3]\n",
            " [ 4  5  6]\n",
            " [ 7  8  9]\n",
            " [10 11 12]]\n",
            "(4, 3)\n",
            "[[[ 1  2]\n",
            "  [ 3  4]\n",
            "  [ 5  6]]\n",
            "\n",
            " [[ 7  8]\n",
            "  [ 9 10]\n",
            "  [11 12]]]\n",
            "(2, 3, 2)\n",
            "[[ 1  2  3  4  5  6  7  8  9 10 11 12]]\n",
            "(1, 12)\n"
          ]
        }
      ]
    },
    {
      "cell_type": "markdown",
      "source": [
        "Reshape it using negative indexes"
      ],
      "metadata": {
        "id": "NYWpokOBILFW"
      }
    },
    {
      "cell_type": "code",
      "source": [
        "a=a.reshape(-1,3 )# 4 X 3. This will give the remaining values to the first dimension. Any -ve number is allowed\n",
        "print(a)\n",
        "print(a.shape)\n",
        "a=a.reshape(2,3,-2 )# 2 X 3 X 2\n",
        "print(a)\n",
        "print(a.shape)\n",
        "a=a.reshape(1,-1 )# 12 X 1\n",
        "print(a)\n",
        "print(a.shape)\n",
        "a=a.reshape(-1,12 )# 1 X 12\n",
        "print(a)\n",
        "print(a.shape)"
      ],
      "metadata": {
        "colab": {
          "base_uri": "https://localhost:8080/"
        },
        "id": "8eXejTPcIgoJ",
        "outputId": "576b4edd-c153-4452-e26a-d0122da24be3"
      },
      "execution_count": null,
      "outputs": [
        {
          "output_type": "stream",
          "name": "stdout",
          "text": [
            "[[ 1  2  3]\n",
            " [ 4  5  6]\n",
            " [ 7  8  9]\n",
            " [10 11 12]]\n",
            "(4, 3)\n",
            "[[[ 1  2]\n",
            "  [ 3  4]\n",
            "  [ 5  6]]\n",
            "\n",
            " [[ 7  8]\n",
            "  [ 9 10]\n",
            "  [11 12]]]\n",
            "(2, 3, 2)\n",
            "[[ 1  2  3  4  5  6  7  8  9 10 11 12]]\n",
            "(1, 12)\n",
            "[[ 1  2  3  4  5  6  7  8  9 10 11 12]]\n",
            "(1, 12)\n"
          ]
        }
      ]
    }
  ]
}