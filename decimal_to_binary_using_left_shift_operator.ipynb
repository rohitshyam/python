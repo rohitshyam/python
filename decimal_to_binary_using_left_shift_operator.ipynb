{
  "nbformat": 4,
  "nbformat_minor": 0,
  "metadata": {
    "colab": {
      "name": "decimal to binary using left shift operator",
      "provenance": [],
      "collapsed_sections": [],
      "authorship_tag": "ABX9TyMU2pxOX/GTd2Inc+J9+NkB",
      "include_colab_link": true
    },
    "kernelspec": {
      "name": "python3",
      "display_name": "Python 3"
    },
    "language_info": {
      "name": "python"
    }
  },
  "cells": [
    {
      "cell_type": "markdown",
      "metadata": {
        "id": "view-in-github",
        "colab_type": "text"
      },
      "source": [
        "<a href=\"https://colab.research.google.com/github/rohitshyam/python/blob/main/decimal_to_binary_using_left_shift_operator.ipynb\" target=\"_parent\"><img src=\"https://colab.research.google.com/assets/colab-badge.svg\" alt=\"Open In Colab\"/></a>"
      ]
    },
    {
      "cell_type": "code",
      "execution_count": 3,
      "metadata": {
        "id": "2fM3yj3NZiSL"
      },
      "outputs": [],
      "source": [
        "def binary(n):\n",
        "  output=\"\"\n",
        "  sign=\"\"\n",
        "  if  n<0:\n",
        "    sign=\"-\"\n",
        "    n=-n\n",
        "  while n>0:\n",
        "    rem = n %2\n",
        "    n=n//2\n",
        "    output = str(rem) + output\n",
        "  return sign + output\n"
      ]
    },
    {
      "cell_type": "code",
      "source": [
        "r=30\n",
        "g=32\n",
        "b=33\n",
        "print(\"r=\",binary(r))\n",
        "print(\"g=\",binary(g))\n",
        "print(\"b=\",binary(b))\n",
        "r=r<<16\n",
        "g=g<<8\n",
        "\n",
        "print(\"r=\",binary(r))\n",
        "print(\"g=\",binary(g))\n",
        "print(\"b=\",binary(b))\n",
        "rgb=r|g|b\n",
        "print(\"rgb=\",binary(rgb),\"value = \",rgb)\n",
        "r=rgb>>16\n",
        "r=r & 255\n",
        "print('r=',binary(r))\n",
        "g=rgb>>8\n",
        "g=g & 255\n",
        "print('g=',binary(g))\n",
        "b=rgb>>15\n",
        "b=b & 255\n",
        "print('b=',binary(b))"
      ],
      "metadata": {
        "colab": {
          "base_uri": "https://localhost:8080/"
        },
        "id": "cj7trbU_Tctw",
        "outputId": "4e52e5b2-7cb8-4e67-bf1e-7c67edda2e98"
      },
      "execution_count": 30,
      "outputs": [
        {
          "output_type": "stream",
          "name": "stdout",
          "text": [
            "r= 11110\n",
            "g= 100000\n",
            "b= 100001\n",
            "r= 111100000000000000000\n",
            "g= 10000000000000\n",
            "b= 100001\n",
            "rgb= 111100010000000100001 value =  1974305\n",
            "r= 11110\n",
            "g= 100000\n",
            "b= 111100\n"
          ]
        }
      ]
    },
    {
      "cell_type": "code",
      "source": [
        "``"
      ],
      "metadata": {
        "id": "nybtMQKaim1w"
      },
      "execution_count": null,
      "outputs": []
    },
    {
      "cell_type": "code",
      "source": [
        "a=12\n",
        "b=14\n",
        "print(a,b)\n",
        "a=a<<8\n",
        "total=a | b\n",
        "print(total)\n",
        "a=(total>>8) & 255\n",
        "b=total &255\n",
        "print(a,b)"
      ],
      "metadata": {
        "colab": {
          "base_uri": "https://localhost:8080/"
        },
        "id": "AeTgtvlIiuiZ",
        "outputId": "fe47ea1f-5b7a-407f-b60e-93eb6d9604bb"
      },
      "execution_count": 34,
      "outputs": [
        {
          "output_type": "stream",
          "name": "stdout",
          "text": [
            "12 14\n",
            "3086\n",
            "12 14\n"
          ]
        }
      ]
    },
    {
      "cell_type": "code",
      "source": [
        "a=5\n",
        "b=6\n",
        "c=a|b\n",
        "print(binary(a))\n",
        "print(binary(b))\n",
        "print(binary(c))\n",
        "c=a&b\n",
        "print(binary(c))\n",
        "c=a^b\n",
        "print(binary(c))\n",
        "c=~a\n",
        "print(binary(c))"
      ],
      "metadata": {
        "colab": {
          "base_uri": "https://localhost:8080/"
        },
        "id": "N-nK5JW-pfr9",
        "outputId": "6302b3a4-ea9f-4ac2-cb81-7ad2c0abd4db"
      },
      "execution_count": 46,
      "outputs": [
        {
          "output_type": "stream",
          "name": "stdout",
          "text": [
            "101\n",
            "110\n",
            "111\n",
            "100\n",
            "11\n",
            "-110\n"
          ]
        }
      ]
    },
    {
      "cell_type": "code",
      "source": [
        "a=5\n",
        "print(binary(a))\n",
        "a=~a\n",
        "print(binary(a))\n",
        "a=~a\n",
        "print(binary(a))\n"
      ],
      "metadata": {
        "colab": {
          "base_uri": "https://localhost:8080/"
        },
        "id": "ANPghk0la_lZ",
        "outputId": "721cd267-1a3e-480c-9ab7-349ad7bf2f62"
      },
      "execution_count": 44,
      "outputs": [
        {
          "output_type": "stream",
          "name": "stdout",
          "text": [
            "101\n",
            "-110\n",
            "101\n"
          ]
        }
      ]
    },
    {
      "cell_type": "code",
      "source": [
        ""
      ],
      "metadata": {
        "id": "9gUg3iXMd468"
      },
      "execution_count": null,
      "outputs": []
    }
  ]
}