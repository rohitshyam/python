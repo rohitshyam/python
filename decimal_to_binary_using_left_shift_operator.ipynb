{
  "nbformat": 4,
  "nbformat_minor": 0,
  "metadata": {
    "colab": {
      "name": "decimal to binary using left shift operator",
      "provenance": [],
      "collapsed_sections": [],
      "authorship_tag": "ABX9TyM1l/U8Ymc9EYpkNoEjA3o7",
      "include_colab_link": true
    },
    "kernelspec": {
      "name": "python3",
      "display_name": "Python 3"
    },
    "language_info": {
      "name": "python"
    }
  },
  "cells": [
    {
      "cell_type": "markdown",
      "metadata": {
        "id": "view-in-github",
        "colab_type": "text"
      },
      "source": [
        "<a href=\"https://colab.research.google.com/github/rohitshyam/python/blob/main/decimal_to_binary_using_left_shift_operator.ipynb\" target=\"_parent\"><img src=\"https://colab.research.google.com/assets/colab-badge.svg\" alt=\"Open In Colab\"/></a>"
      ]
    },
    {
      "cell_type": "code",
      "execution_count": 3,
      "metadata": {
        "id": "2fM3yj3NZiSL"
      },
      "outputs": [],
      "source": [
        "def binary(n):\n",
        "  output=\"\"\n",
        "  sign=\"\"\n",
        "  if  n<0:\n",
        "    sign=\"-\"\n",
        "    n=-n\n",
        "  while n>0:\n",
        "    rem = n %2\n",
        "    n=n//2\n",
        "    output = str(rem) + output\n",
        "  return sign + output\n"
      ]
    },
    {
      "cell_type": "code",
      "source": [
        "r=31\n",
        "g=32\n",
        "b=33\n",
        "print(\"r=\",binary(r))\n",
        "print(\"g=\",binary(g))\n",
        "print(\"b=\",binary(b))\n",
        "r=r<<16\n",
        "g=g<<8\n",
        "print(\"r=\",binary(r))\n",
        "print(\"g=\",binary(g))\n",
        "print(\"b=\",binary(b))"
      ],
      "metadata": {
        "colab": {
          "base_uri": "https://localhost:8080/"
        },
        "id": "cj7trbU_Tctw",
        "outputId": "61b240e4-9efe-472a-b229-202fd512c0b9"
      },
      "execution_count": 13,
      "outputs": [
        {
          "output_type": "stream",
          "name": "stdout",
          "text": [
            "r= 11111\n",
            "g= 100000\n",
            "b= 100001\n",
            "r= 111110000000000000000\n",
            "g= 10000000000000\n",
            "b= 100001\n"
          ]
        }
      ]
    },
    {
      "cell_type": "code",
      "source": [
        "a=5\n",
        "b=6\n",
        "c=a|b\n",
        "print(binary(a))\n",
        "print(binary(b))\n",
        "print(binary(c))\n",
        "c=a&b\n",
        "print(binary(c))\n",
        "c=a^b\n",
        "print(binary(c))\n",
        "c=~a\n",
        "print(binary(c))"
      ],
      "metadata": {
        "colab": {
          "base_uri": "https://localhost:8080/"
        },
        "id": "N-nK5JW-pfr9",
        "outputId": "6302b3a4-ea9f-4ac2-cb81-7ad2c0abd4db"
      },
      "execution_count": 46,
      "outputs": [
        {
          "output_type": "stream",
          "name": "stdout",
          "text": [
            "101\n",
            "110\n",
            "111\n",
            "100\n",
            "11\n",
            "-110\n"
          ]
        }
      ]
    },
    {
      "cell_type": "code",
      "source": [
        ""
      ],
      "metadata": {
        "colab": {
          "base_uri": "https://localhost:8080/",
          "height": 226
        },
        "id": "xnrWTJNd0GmL",
        "outputId": "84d4c9cc-feb0-494d-d3cf-ed7d90e0900b"
      },
      "execution_count": 2,
      "outputs": [
        {
          "output_type": "error",
          "ename": "NameError",
          "evalue": "ignored",
          "traceback": [
            "\u001b[0;31m---------------------------------------------------------------------------\u001b[0m",
            "\u001b[0;31mNameError\u001b[0m                                 Traceback (most recent call last)",
            "\u001b[0;32m<ipython-input-2-a2804c248592>\u001b[0m in \u001b[0;36m<module>\u001b[0;34m()\u001b[0m\n\u001b[1;32m      1\u001b[0m \u001b[0ma\u001b[0m\u001b[0;34m=\u001b[0m\u001b[0;36m5\u001b[0m\u001b[0;34m\u001b[0m\u001b[0;34m\u001b[0m\u001b[0m\n\u001b[0;32m----> 2\u001b[0;31m \u001b[0mprint\u001b[0m\u001b[0;34m(\u001b[0m\u001b[0mbinary\u001b[0m\u001b[0;34m(\u001b[0m\u001b[0ma\u001b[0m\u001b[0;34m)\u001b[0m\u001b[0;34m,\u001b[0m\u001b[0ma\u001b[0m\u001b[0;34m)\u001b[0m\u001b[0;34m\u001b[0m\u001b[0;34m\u001b[0m\u001b[0m\n\u001b[0m\u001b[1;32m      3\u001b[0m \u001b[0ma\u001b[0m\u001b[0;34m=\u001b[0m\u001b[0ma\u001b[0m\u001b[0;34m<<\u001b[0m\u001b[0;36m3\u001b[0m\u001b[0;34m\u001b[0m\u001b[0;34m\u001b[0m\u001b[0m\n\u001b[1;32m      4\u001b[0m \u001b[0mprint\u001b[0m\u001b[0;34m(\u001b[0m\u001b[0mbinary\u001b[0m\u001b[0;34m(\u001b[0m\u001b[0ma\u001b[0m\u001b[0;34m)\u001b[0m\u001b[0;34m,\u001b[0m\u001b[0ma\u001b[0m\u001b[0;34m)\u001b[0m\u001b[0;34m\u001b[0m\u001b[0;34m\u001b[0m\u001b[0m\n",
            "\u001b[0;31mNameError\u001b[0m: name 'binary' is not defined"
          ]
        }
      ]
    },
    {
      "cell_type": "code",
      "source": [
        "a=5\n",
        "print(binary(a))\n",
        "a=~a\n",
        "print(binary(a))\n",
        "a=~a\n",
        "print(binary(a))\n"
      ],
      "metadata": {
        "colab": {
          "base_uri": "https://localhost:8080/"
        },
        "id": "ANPghk0la_lZ",
        "outputId": "721cd267-1a3e-480c-9ab7-349ad7bf2f62"
      },
      "execution_count": 44,
      "outputs": [
        {
          "output_type": "stream",
          "name": "stdout",
          "text": [
            "101\n",
            "-110\n",
            "101\n"
          ]
        }
      ]
    },
    {
      "cell_type": "code",
      "source": [
        ""
      ],
      "metadata": {
        "id": "9gUg3iXMd468"
      },
      "execution_count": null,
      "outputs": []
    }
  ]
}