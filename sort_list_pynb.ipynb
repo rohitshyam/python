{
  "nbformat": 4,
  "nbformat_minor": 0,
  "metadata": {
    "colab": {
      "name": "sort list pynb",
      "provenance": [],
      "authorship_tag": "ABX9TyPkgDD3atfvGb88vQGNJVWi",
      "include_colab_link": true
    },
    "kernelspec": {
      "name": "python3",
      "display_name": "Python 3"
    },
    "language_info": {
      "name": "python"
    }
  },
  "cells": [
    {
      "cell_type": "markdown",
      "metadata": {
        "id": "view-in-github",
        "colab_type": "text"
      },
      "source": [
        "<a href=\"https://colab.research.google.com/github/rohitshyam/python/blob/main/sort_list_pynb.ipynb\" target=\"_parent\"><img src=\"https://colab.research.google.com/assets/colab-badge.svg\" alt=\"Open In Colab\"/></a>"
      ]
    },
    {
      "cell_type": "code",
      "execution_count": 3,
      "metadata": {
        "colab": {
          "base_uri": "https://localhost:8080/"
        },
        "id": "eST79lTvUF8Y",
        "outputId": "17a7f9d2-772c-41f3-ab3f-8dd9ba2090c0"
      },
      "outputs": [
        {
          "output_type": "stream",
          "name": "stdout",
          "text": [
            "the original string:harshshyamrohit\n",
            "string after sorting:aahhhhimorrssty\n",
            "the original string:hashyhit\n",
            "string after sorting:ahhhisty\n"
          ]
        }
      ],
      "source": [
        "\n",
        "test_string=\"harshshyamrohit\"\n",
        "print(\"the original string:\"+str(test_string))\n",
        "res=''.join(sorted(test_string))\n",
        "print(\"string after sorting:\"+str(res))\n",
        "test_string=\"hashyhit\"\n",
        "print(\"the original string:\"+str(test_string))\n",
        "res=''.join(sorted(test_string))\n",
        "print(\"string after sorting:\"+str(res))\n"
      ]
    },
    {
      "cell_type": "code",
      "source": [
        "a=[6,76,6,88,8,6,4,8,3,9,448,4,93]\n",
        "print()\n",
        "a.sort(reverse=False)\n",
        "print(a)\n",
        "a.sort(reverse=True)\n",
        "print(a)\n",
        "a=[6,76,6,88,8,6,4,8,3,9,448,4,93]\n",
        "print()\n",
        "a.sort(reverse=False)\n",
        "print(a)\n",
        "print(a)\n",
        "a.sort(reverse=True)\n",
        "print(a)"
      ],
      "metadata": {
        "colab": {
          "base_uri": "https://localhost:8080/"
        },
        "id": "XXzrZW5FXRHs",
        "outputId": "d8b9c0a1-34db-43c1-f8f3-20407b02e338"
      },
      "execution_count": 10,
      "outputs": [
        {
          "output_type": "stream",
          "name": "stdout",
          "text": [
            "\n",
            "[3, 4, 4, 6, 6, 6, 8, 8, 9, 76, 88, 93, 448]\n",
            "[448, 93, 88, 76, 9, 8, 8, 6, 6, 6, 4, 4, 3]\n",
            "\n",
            "[3, 4, 4, 6, 6, 6, 8, 8, 9, 76, 88, 93, 448]\n",
            "[3, 4, 4, 6, 6, 6, 8, 8, 9, 76, 88, 93, 448]\n",
            "[448, 93, 88, 76, 9, 8, 8, 6, 6, 6, 4, 4, 3]\n"
          ]
        }
      ]
    },
    {
      "cell_type": "code",
      "source": [
        "a=[]\n",
        "print(a)\n",
        "a=a+[10]\n",
        "print(a)\n",
        "a.append(12)\n",
        "print(a)\n",
        "a=[1]+a\n",
        "print(a)\n",
        "a.insert(1,\"apple\")\n",
        "print(a)\n",
        "a.pop()\n",
        "print(a)\n",
        "a=a+[1,2,3,4,5]\n",
        "print(a)\n",
        "a.pop(3)\n",
        "print(a)\n",
        "a.remove(\"apple\")\n",
        "print(a)\n",
        "a.pop(5)\n",
        "print(a)\n",
        "\n",
        "\n"
      ],
      "metadata": {
        "colab": {
          "base_uri": "https://localhost:8080/"
        },
        "id": "jQZ6CtNNaXyt",
        "outputId": "522065e9-8cc5-4fb9-e9a9-832f476e8513"
      },
      "execution_count": 30,
      "outputs": [
        {
          "output_type": "stream",
          "name": "stdout",
          "text": [
            "[]\n",
            "[10]\n",
            "[10, 12]\n",
            "[1, 10, 12]\n",
            "[1, 'apple', 10, 12]\n",
            "[1, 'apple', 10]\n",
            "[1, 'apple', 10, 1, 2, 3, 4, 5]\n",
            "[1, 'apple', 10, 2, 3, 4, 5]\n",
            "[1, 10, 2, 3, 4, 5]\n",
            "[1, 10, 2, 3, 4]\n"
          ]
        }
      ]
    },
    {
      "cell_type": "code",
      "source": [
        ""
      ],
      "metadata": {
        "id": "7Z4WghX9eHWZ"
      },
      "execution_count": null,
      "outputs": []
    },
    {
      "cell_type": "code",
      "source": [
        ""
      ],
      "metadata": {
        "id": "6AQuoQKlWmU2"
      },
      "execution_count": null,
      "outputs": []
    }
  ]
}