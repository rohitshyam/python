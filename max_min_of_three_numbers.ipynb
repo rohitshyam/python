{
  "nbformat": 4,
  "nbformat_minor": 0,
  "metadata": {
    "colab": {
      "name": "max min of three  numbers",
      "provenance": [],
      "collapsed_sections": [],
      "authorship_tag": "ABX9TyPGDST1j3GQeC+2TDKqjkXW",
      "include_colab_link": true
    },
    "kernelspec": {
      "name": "python3",
      "display_name": "Python 3"
    },
    "language_info": {
      "name": "python"
    }
  },
  "cells": [
    {
      "cell_type": "markdown",
      "metadata": {
        "id": "view-in-github",
        "colab_type": "text"
      },
      "source": [
        "<a href=\"https://colab.research.google.com/github/rohitshyam/python/blob/main/max_min_of_three_numbers.ipynb\" target=\"_parent\"><img src=\"https://colab.research.google.com/assets/colab-badge.svg\" alt=\"Open In Colab\"/></a>"
      ]
    },
    {
      "cell_type": "code",
      "execution_count": 2,
      "metadata": {
        "colab": {
          "base_uri": "https://localhost:8080/"
        },
        "id": "_KhkBFFUWKfq",
        "outputId": "eb30f3c7-bda8-4166-945f-e3df2751b96c"
      },
      "outputs": [
        {
          "output_type": "stream",
          "name": "stdout",
          "text": [
            "14\n"
          ]
        }
      ],
      "source": [
        "a=7\n",
        "b=6\n",
        "c=14\n",
        "if a>=b and a>=c:\n",
        "  max=a\n",
        "elif b>=c:\n",
        "       max=b\n",
        "else:\n",
        "      max=c\n",
        "print(max)"
      ]
    },
    {
      "cell_type": "code",
      "source": [
        "a=9\n",
        "b=16\n",
        "c=8\n",
        "max=(a if a>=c else c) if a>=b else (b if b>=c else c)\n",
        "print(max)\n"
      ],
      "metadata": {
        "colab": {
          "base_uri": "https://localhost:8080/"
        },
        "id": "KhSNL44fXc4w",
        "outputId": "1df635e5-8d3a-460e-9b71-c8d820302127"
      },
      "execution_count": 12,
      "outputs": [
        {
          "output_type": "stream",
          "name": "stdout",
          "text": [
            "16\n"
          ]
        }
      ]
    },
    {
      "cell_type": "code",
      "source": [
        "a=9\n",
        "b=4\n",
        "c=2\n",
        "min=(a if a<=c else c) if a<=b else(b if b<=c else c)\n",
        "print(min)"
      ],
      "metadata": {
        "colab": {
          "base_uri": "https://localhost:8080/"
        },
        "id": "xxMv35SDbfzW",
        "outputId": "dd18be2c-c77e-4551-e881-16a100976e18"
      },
      "execution_count": 23,
      "outputs": [
        {
          "output_type": "stream",
          "name": "stdout",
          "text": [
            "2\n"
          ]
        }
      ]
    },
    {
      "cell_type": "code",
      "source": [
        "a=9\n",
        "b=14\n",
        "c=45\n",
        "min=(a if a<=c else c)if a<=b else (b if b<=c else c)\n",
        "print(min)"
      ],
      "metadata": {
        "colab": {
          "base_uri": "https://localhost:8080/"
        },
        "id": "PnBIL6Y1fo5L",
        "outputId": "3ffd2790-8375-4c04-9a02-58a2d1168325"
      },
      "execution_count": 25,
      "outputs": [
        {
          "output_type": "stream",
          "name": "stdout",
          "text": [
            "9\n"
          ]
        }
      ]
    },
    {
      "cell_type": "code",
      "source": [
        ""
      ],
      "metadata": {
        "id": "FcB6_JNOfZZa"
      },
      "execution_count": null,
      "outputs": []
    }
  ]
}