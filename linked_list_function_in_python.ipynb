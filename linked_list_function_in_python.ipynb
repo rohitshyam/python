{
  "nbformat": 4,
  "nbformat_minor": 0,
  "metadata": {
    "colab": {
      "name": "linked list function in python",
      "provenance": [],
      "authorship_tag": "ABX9TyOwnoFrQ32d9pkhwses9mVn",
      "include_colab_link": true
    },
    "kernelspec": {
      "name": "python3",
      "display_name": "Python 3"
    },
    "language_info": {
      "name": "python"
    }
  },
  "cells": [
    {
      "cell_type": "markdown",
      "metadata": {
        "id": "view-in-github",
        "colab_type": "text"
      },
      "source": [
        "<a href=\"https://colab.research.google.com/github/rohitshyam/python/blob/main/linked_list_function_in_python.ipynb\" target=\"_parent\"><img src=\"https://colab.research.google.com/assets/colab-badge.svg\" alt=\"Open In Colab\"/></a>"
      ]
    },
    {
      "cell_type": "code",
      "execution_count": 1,
      "metadata": {
        "colab": {
          "base_uri": "https://localhost:8080/",
          "height": 135
        },
        "id": "F19sE3s9KqUK",
        "outputId": "4c079e6a-613c-45bc-cb9f-0ec0be3dec93"
      },
      "outputs": [
        {
          "output_type": "error",
          "ename": "SyntaxError",
          "evalue": "ignored",
          "traceback": [
            "\u001b[0;36m  File \u001b[0;32m\"<ipython-input-1-f8fb404667e3>\"\u001b[0;36m, line \u001b[0;32m14\u001b[0m\n\u001b[0;31m    list is an order collection.and indexing starts at 0\u001b[0m\n\u001b[0m                   ^\u001b[0m\n\u001b[0;31mSyntaxError\u001b[0m\u001b[0;31m:\u001b[0m invalid syntax\n"
          ]
        }
      ],
      "source": [
        "\n",
        "l[]\n",
        "print(l)\n",
        "print(type (l))\n",
        "l=[1,2,3]\n",
        "print(l)\n",
        "l=list()\n",
        "print(l)\n",
        "l=list[]1,2,3]\n",
        "print(l)\n",
        "#the len function gives the length\n",
        "print(\"length is \",len(1))\n",
        "\"\"\"\n",
        "list is an order collection.and indexing starts at 0\n",
        "\"\"\"\n",
        "print(\"0:\",l[0],\"1:\",l[1],\"2:\",l[2])\n",
        "\"\"\"\n",
        "we can also use negative indexing where the last index is -1,then -2,-3 and\n",
        "\"\"\"\n",
        "print(\"-1:\",l[-1],\"-2:\",l[-2],\"-3:\",1[-3])\n",
        "n=len(l)\n",
        "\"\"\"\n",
        "0=-n\n",
        "1=-n+1\n",
        "2=-n+2\n",
        "changing from forword to backword is i to -n+i or i-n\n",
        "\"\"\"\n",
        "for i in range(n):\n",
        "    print(l[i],\" = \",[-n+i])\n",
        "#lists can contain elements of different types\n",
        "l=[1,\"Two\",3,\"four\"]\n",
        "print(1)\n",
        "#loop through using in \n",
        "for x in 1:\n",
        "     print(x)\n",
        "\"\"\"\n",
        "looping via index is done using the range\n",
        "\"\"\"\n",
        "n=len(1)\n",
        "for i in range(n):\n",
        "    print(1[i])\n",
        "\"\"\"\n",
        "slicing\n",
        "general syntax is \n",
        "1[startindex:lastindex+1]\n",
        "extends to the end if not given\n",
        "\"\"\"\n",
        "1=[0,\"One\",2,\"three\",4,\"five\"]\n",
        "print(\"1 to 3\",l[1:4])\n",
        "print(\"1 to end\",l[1:])\n",
        "print(\"beginning to 3\",l[:4])\n",
        "print(\"complete array\",l[:])\n",
        "\"\"\"\n",
        "Negative indexing\n",
        "\"\"\"\n",
        "print(\"last 2 elements\",l[-2:])\n",
        "print(l)\n",
        "print(\"2 from last to 4 from last\",l[-4:-1])\n",
        "#general syntax\n",
        "print(\"2 from last to 4 from last\",l[-4:-2+1])\n",
        "\"\"\"\n",
        "functions min and max sorting etc are only supported for elements of the time same \n",
        "\"\"\"\n",
        "l=[0,1,2,3,4,5]\n",
        "print(\"min\",min(1))\n",
        "print (\"max\",max(1))\n",
        "\n"
      ]
    },
    {
      "cell_type": "code",
      "source": [
        "l=[]\n",
        "print(l)\n",
        "print(type (l))\n",
        "l=[1,2,3]\n",
        "print(l)\n",
        "l=list()\n",
        "print(l)\n",
        "l=list([1,2,3])\n",
        "print(l[2])\n",
        "#the len function gives the length \n",
        "print(\"length is \",len(1))\n",
        "\"\"\"\n",
        "list is an order collection.and indexing starts at 0\n",
        "\"\"\"\n",
        "print(\"0:\",l[0],\"1:\",l[1],\"2:\",l[2])                                                                                                                                                                                                                                                                             \n",
        "\"\"\"\n",
        "we can also use negative indexing where the last index is -1,then -2,-3 \n",
        "\"\"\"\n",
        "print(\"-1:\",l[-1],\"-2:\",l[-2],\"-3:\",1[-3])\n",
        "n=len(l)\n",
        "\"\"\"\n",
        "0=-n\n",
        "1=-n+1\n",
        "2=-n+2\n",
        "   changing from forword to backword is i to -n+i or i-n\n",
        "\"\"\"\n",
        "for i in range(n):\n",
        "    print(l[i],\" = \",[-n+i]) \n",
        "\n",
        "\n",
        "\n"
      ],
      "metadata": {
        "colab": {
          "base_uri": "https://localhost:8080/",
          "height": 336
        },
        "id": "cpoHx-6gqQ6m",
        "outputId": "1b363030-a716-4d12-a883-5baefcd1d42d"
      },
      "execution_count": 13,
      "outputs": [
        {
          "output_type": "stream",
          "name": "stdout",
          "text": [
            "[]\n",
            "<class 'list'>\n",
            "[1, 2, 3]\n",
            "[]\n",
            "3\n"
          ]
        },
        {
          "output_type": "error",
          "ename": "TypeError",
          "evalue": "ignored",
          "traceback": [
            "\u001b[0;31m---------------------------------------------------------------------------\u001b[0m",
            "\u001b[0;31mTypeError\u001b[0m                                 Traceback (most recent call last)",
            "\u001b[0;32m<ipython-input-13-e9165f3bd63f>\u001b[0m in \u001b[0;36m<module>\u001b[0;34m()\u001b[0m\n\u001b[1;32m      9\u001b[0m \u001b[0mprint\u001b[0m\u001b[0;34m(\u001b[0m\u001b[0ml\u001b[0m\u001b[0;34m[\u001b[0m\u001b[0;36m2\u001b[0m\u001b[0;34m]\u001b[0m\u001b[0;34m)\u001b[0m\u001b[0;34m\u001b[0m\u001b[0;34m\u001b[0m\u001b[0m\n\u001b[1;32m     10\u001b[0m \u001b[0;31m#the len function gives the length\u001b[0m\u001b[0;34m\u001b[0m\u001b[0;34m\u001b[0m\u001b[0;34m\u001b[0m\u001b[0m\n\u001b[0;32m---> 11\u001b[0;31m \u001b[0mprint\u001b[0m\u001b[0;34m(\u001b[0m\u001b[0;34m\"length is \"\u001b[0m\u001b[0;34m,\u001b[0m\u001b[0mlen\u001b[0m\u001b[0;34m(\u001b[0m\u001b[0;36m1\u001b[0m\u001b[0;34m)\u001b[0m\u001b[0;34m)\u001b[0m\u001b[0;34m\u001b[0m\u001b[0;34m\u001b[0m\u001b[0m\n\u001b[0m\u001b[1;32m     12\u001b[0m \"\"\"\n\u001b[1;32m     13\u001b[0m \u001b[0mlist\u001b[0m \u001b[0;32mis\u001b[0m \u001b[0man\u001b[0m \u001b[0morder\u001b[0m \u001b[0mcollection\u001b[0m\u001b[0;34m.\u001b[0m\u001b[0;32mand\u001b[0m \u001b[0mindexing\u001b[0m \u001b[0mstarts\u001b[0m \u001b[0mat\u001b[0m \u001b[0;36m0\u001b[0m\u001b[0;34m\u001b[0m\u001b[0;34m\u001b[0m\u001b[0m\n",
            "\u001b[0;31mTypeError\u001b[0m: object of type 'int' has no len()"
          ]
        }
      ]
    },
    {
      "cell_type": "code",
      "source": [
        "a=[94,50,25,16,67]\n",
        "print()\n",
        "a.sort(reverse=False)\n",
        "print(a)\n",
        "a.sort(reverse =True)\n",
        "print(a)\n"
      ],
      "metadata": {
        "colab": {
          "base_uri": "https://localhost:8080/"
        },
        "id": "rcaQbZCOwPbg",
        "outputId": "d3c937d2-7e78-49f3-a140-a80180b41bf6"
      },
      "execution_count": 17,
      "outputs": [
        {
          "output_type": "stream",
          "name": "stdout",
          "text": [
            "\n",
            "[16, 25, 50, 67, 94]\n",
            "[94, 67, 50, 25, 16]\n"
          ]
        }
      ]
    },
    {
      "cell_type": "code",
      "source": [
        ""
      ],
      "metadata": {
        "id": "DhPhnDACK5MX"
      },
      "execution_count": null,
      "outputs": []
    },
    {
      "cell_type": "code",
      "source": [
        ""
      ],
      "metadata": {
        "id": "9okwJyHvqBQG"
      },
      "execution_count": null,
      "outputs": []
    }
  ]
}