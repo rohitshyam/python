{
  "nbformat": 4,
  "nbformat_minor": 0,
  "metadata": {
    "colab": {
      "name": "enter district code to check district",
      "provenance": [],
      "collapsed_sections": [],
      "authorship_tag": "ABX9TyNVa8Y31Rb1f+yXeMWaiTtS",
      "include_colab_link": true
    },
    "kernelspec": {
      "name": "python3",
      "display_name": "Python 3"
    },
    "language_info": {
      "name": "python"
    }
  },
  "cells": [
    {
      "cell_type": "markdown",
      "metadata": {
        "id": "view-in-github",
        "colab_type": "text"
      },
      "source": [
        "<a href=\"https://colab.research.google.com/github/rohitshyam/python/blob/main/enter_district_code_to_check_district.ipynb\" target=\"_parent\"><img src=\"https://colab.research.google.com/assets/colab-badge.svg\" alt=\"Open In Colab\"/></a>"
      ]
    },
    {
      "cell_type": "code",
      "execution_count": 18,
      "metadata": {
        "colab": {
          "base_uri": "https://localhost:8080/"
        },
        "id": "1t73hLI-lRDa",
        "outputId": "aff6c1f8-9060-477b-f9a9-638b33fa5f9c"
      },
      "outputs": [
        {
          "output_type": "stream",
          "name": "stdout",
          "text": [
            "student\n",
            "har har mahadebev\n"
          ]
        }
      ],
      "source": [
        "students={10:[\"Mahadev\",\"Kalikadham\"],23:[\"krishna\",\"dwarikadhish\"],2:[\"Mahakal\",\"vt\"]}\n",
        "print(\"student\")\n",
        "value = students.get(0)\n",
        "\n",
        "if value==None:\n",
        "  print(\"har har mahadebev\")\n",
        "else:\n",
        "  print(value)\n",
        "  print (\"student\"[2])\n",
        "  \"student\".pop(2)\n",
        "  print(d)"
      ]
    },
    {
      "cell_type": "code",
      "source": [
        "district={65:[\"Varanasi\"],11:[\"Saharanpur\"],12:[\"Mazzaffarnagar\"],13:[\"Bulandsahar\"],\n",
        "      14:[\"Ghaziabad\"],15:[\"Merut\"],16:[\"Noida\"],17:[\"Baghpat\"],19:[\"Shamali\"],\n",
        "      22:[\"Rampur\"],24:[\"Bandayu\"],28:[\"Ayodhya\"]} \n",
        "citycode=int(input(\"enter city code my friend=\"))\n",
        "value=district.get(citycode)\n",
        "\n",
        "\n",
        "if value==None:\n",
        "        print(\"mahamoodpur\")\n",
        "else:\n",
        "        print(value)"
      ],
      "metadata": {
        "colab": {
          "base_uri": "https://localhost:8080/"
        },
        "id": "aa0t6r34GMsF",
        "outputId": "f33d34ea-5d3f-433e-9a77-9c1f36c9b52c"
      },
      "execution_count": 10,
      "outputs": [
        {
          "output_type": "stream",
          "name": "stdout",
          "text": [
            "enter city code my friend=0\n",
            "mahamoodpur\n"
          ]
        }
      ]
    },
    {
      "cell_type": "code",
      "source": [
        "d={1 :\"arya\",12:\"sarthak\",13:\"yashika\"}\n",
        "rollno=int(input(\"enter roll number\"))\n",
        "value=d.get(rollno)\n",
        "if value==None:\n",
        "  print(\"hello world\")\n",
        "else:\n",
        "  print(value)"
      ],
      "metadata": {
        "colab": {
          "base_uri": "https://localhost:8080/"
        },
        "id": "VzwKW87HvEsq",
        "outputId": "f85740e9-f2de-46be-da08-93f9530d1e71"
      },
      "execution_count": 8,
      "outputs": [
        {
          "output_type": "stream",
          "name": "stdout",
          "text": [
            "enter roll number13\n",
            "yashika\n"
          ]
        }
      ]
    },
    {
      "cell_type": "code",
      "source": [
        "\n",
        "print(d)\n"
      ],
      "metadata": {
        "colab": {
          "base_uri": "https://localhost:8080/",
          "height": 190
        },
        "id": "pfgAgCzk1luq",
        "outputId": "77ecb7b8-6383-4922-ecea-b6dcca753f87"
      },
      "execution_count": 10,
      "outputs": [
        {
          "output_type": "error",
          "ename": "TypeError",
          "evalue": "ignored",
          "traceback": [
            "\u001b[0;31m---------------------------------------------------------------------------\u001b[0m",
            "\u001b[0;31mTypeError\u001b[0m                                 Traceback (most recent call last)",
            "\u001b[0;32m<ipython-input-10-5b19975e491c>\u001b[0m in \u001b[0;36m<module>\u001b[0;34m()\u001b[0m\n\u001b[0;32m----> 1\u001b[0;31m \u001b[0md\u001b[0m\u001b[0;34m=\u001b[0m\u001b[0mdict\u001b[0m\u001b[0;34m(\u001b[0m\u001b[0;36m1\u001b[0m\u001b[0;34m,\u001b[0m\u001b[0;34m\"mahadev\"\u001b[0m\u001b[0;34m)\u001b[0m\u001b[0;34m\u001b[0m\u001b[0;34m\u001b[0m\u001b[0m\n\u001b[0m\u001b[1;32m      2\u001b[0m \u001b[0mprint\u001b[0m\u001b[0;34m(\u001b[0m\u001b[0md\u001b[0m\u001b[0;34m)\u001b[0m\u001b[0;34m\u001b[0m\u001b[0;34m\u001b[0m\u001b[0m\n",
            "\u001b[0;31mTypeError\u001b[0m: dict expected at most 1 arguments, got 2"
          ]
        }
      ]
    }
  ]
}