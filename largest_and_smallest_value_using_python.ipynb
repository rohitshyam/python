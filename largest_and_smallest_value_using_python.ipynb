{
  "nbformat": 4,
  "nbformat_minor": 0,
  "metadata": {
    "colab": {
      "name": "largest and smallest value using python",
      "provenance": [],
      "collapsed_sections": [],
      "authorship_tag": "ABX9TyP8F+cdFNotJtLH0OHZXk0m",
      "include_colab_link": true
    },
    "kernelspec": {
      "name": "python3",
      "display_name": "Python 3"
    },
    "language_info": {
      "name": "python"
    }
  },
  "cells": [
    {
      "cell_type": "markdown",
      "metadata": {
        "id": "view-in-github",
        "colab_type": "text"
      },
      "source": [
        "<a href=\"https://colab.research.google.com/github/rohitshyam/python/blob/main/largest_and_smallest_value_using_python.ipynb\" target=\"_parent\"><img src=\"https://colab.research.google.com/assets/colab-badge.svg\" alt=\"Open In Colab\"/></a>"
      ]
    },
    {
      "cell_type": "code",
      "execution_count": 17,
      "metadata": {
        "colab": {
          "base_uri": "https://localhost:8080/"
        },
        "id": "ad5nu8B-ex8P",
        "outputId": "e5f06965-309d-41c5-a9ae-407294bdb146"
      },
      "outputs": [
        {
          "output_type": "stream",
          "name": "stdout",
          "text": [
            "A\n",
            "AB\n",
            "ABC\n",
            "ABCD\n",
            "ABCDE\n"
          ]
        }
      ],
      "source": [
        "value=(ord('A'))\n",
        "n=5\n",
        "for row in range(1,n+1):\n",
        "  for col in range(1,row+1):\n",
        "    ch=chr(value+col-1)\n",
        "    print(ch,end='')\n",
        "  print()"
      ]
    },
    {
      "cell_type": "code",
      "source": [
        "a=[4,8,12,16,20,56,67]\n",
        "print(a)\n",
        "for x in a:\n",
        "  print(x,end=',')\n",
        "n=len(a)\n",
        "print()\n",
        "for i in range(n):\n",
        "  print(a[i],end=\",\")\n",
        "\n",
        "  "
      ],
      "metadata": {
        "colab": {
          "base_uri": "https://localhost:8080/"
        },
        "id": "UMgp2Nl7j0qM",
        "outputId": "aab80187-14e3-4f61-ddcf-371d379a70cd"
      },
      "execution_count": 32,
      "outputs": [
        {
          "output_type": "stream",
          "name": "stdout",
          "text": [
            "[4, 8, 12, 16, 20, 56, 67]\n",
            "4,8,12,16,20,56,67,\n",
            "4,8,12,16,20,56,67,"
          ]
        }
      ]
    },
    {
      "cell_type": "code",
      "source": [
        "a=[4,8,12,2,11,9,5,61,56,67]\n",
        "minelement=a[0]\n",
        "for x in a:\n",
        "  if x<minelement:\n",
        "    minelement=x\n",
        "print(minelement)\n",
        "print(min(a))\n"
      ],
      "metadata": {
        "colab": {
          "base_uri": "https://localhost:8080/"
        },
        "id": "mvrOqgbEwf0D",
        "outputId": "7441110e-bd5a-44d4-9e82-ea2bef63b013"
      },
      "execution_count": 42,
      "outputs": [
        {
          "output_type": "stream",
          "name": "stdout",
          "text": [
            "2\n",
            "2\n"
          ]
        }
      ]
    },
    {
      "cell_type": "code",
      "source": [
        "a=[2,2,33,-94,2,3,3,23,3,104]\n",
        "print(max(a))"
      ],
      "metadata": {
        "colab": {
          "base_uri": "https://localhost:8080/"
        },
        "id": "D1cTAjOL4wZ6",
        "outputId": "46eda074-fb2c-4ae0-ab1b-54fc9cea6a77"
      },
      "execution_count": 44,
      "outputs": [
        {
          "output_type": "stream",
          "name": "stdout",
          "text": [
            "104\n"
          ]
        }
      ]
    }
  ]
}