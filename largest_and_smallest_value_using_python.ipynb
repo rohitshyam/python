{
  "nbformat": 4,
  "nbformat_minor": 0,
  "metadata": {
    "colab": {
      "name": "largest and smallest value using python",
      "provenance": [],
      "collapsed_sections": [],
      "authorship_tag": "ABX9TyPfejdblx1pHfikHWJyYufx",
      "include_colab_link": true
    },
    "kernelspec": {
      "name": "python3",
      "display_name": "Python 3"
    },
    "language_info": {
      "name": "python"
    }
  },
  "cells": [
    {
      "cell_type": "markdown",
      "metadata": {
        "id": "view-in-github",
        "colab_type": "text"
      },
      "source": [
        "<a href=\"https://colab.research.google.com/github/rohitshyam/python/blob/main/largest_and_smallest_value_using_python.ipynb\" target=\"_parent\"><img src=\"https://colab.research.google.com/assets/colab-badge.svg\" alt=\"Open In Colab\"/></a>"
      ]
    },
    {
      "cell_type": "code",
      "execution_count": 17,
      "metadata": {
        "colab": {
          "base_uri": "https://localhost:8080/"
        },
        "id": "ad5nu8B-ex8P",
        "outputId": "e5f06965-309d-41c5-a9ae-407294bdb146"
      },
      "outputs": [
        {
          "output_type": "stream",
          "name": "stdout",
          "text": [
            "A\n",
            "AB\n",
            "ABC\n",
            "ABCD\n",
            "ABCDE\n"
          ]
        }
      ],
      "source": [
        "value=(ord('A'))\n",
        "n=5\n",
        "for row in range(1,n+1):\n",
        "  for col in range(1,row+1):\n",
        "    ch=chr(value+col-1)\n",
        "    print(ch,end='')\n",
        "  print()"
      ]
    },
    {
      "cell_type": "code",
      "source": [
        "a=[4,8,12,16,20,56,67]\n",
        "print(a)\n",
        "for x in a:\n",
        "  print(x,end=',')\n",
        "n=len(a)\n",
        "print()\n",
        "for i in range(n):\n",
        "  print(a[i],end=\",\")\n",
        "\n",
        "  "
      ],
      "metadata": {
        "colab": {
          "base_uri": "https://localhost:8080/"
        },
        "id": "UMgp2Nl7j0qM",
        "outputId": "aab80187-14e3-4f61-ddcf-371d379a70cd"
      },
      "execution_count": 32,
      "outputs": [
        {
          "output_type": "stream",
          "name": "stdout",
          "text": [
            "[4, 8, 12, 16, 20, 56, 67]\n",
            "4,8,12,16,20,56,67,\n",
            "4,8,12,16,20,56,67,"
          ]
        }
      ]
    },
    {
      "cell_type": "code",
      "source": [
        "a=[4,8,12,2,11,9,5,61,56,67,107]\n",
        "maxelement=a[0]\n",
        "for x in a:\n",
        "  if x<maxelement:\n",
        "    maxelement=x\n",
        "print(maxelement)\n",
        "print(max(a))\n"
      ],
      "metadata": {
        "colab": {
          "base_uri": "https://localhost:8080/"
        },
        "id": "mvrOqgbEwf0D",
        "outputId": "9addf103-77dc-4ce6-a976-038f1dc25786"
      },
      "execution_count": 65,
      "outputs": [
        {
          "output_type": "stream",
          "name": "stdout",
          "text": [
            "2\n",
            "107\n"
          ]
        }
      ]
    },
    {
      "cell_type": "code",
      "source": [
        "a=[4,8,12,2,11,9,5,61,56,67]\n",
        "minelement=a[0+2]\n",
        "for x in a:\n",
        "  if x<minelement:\n",
        "    if x>minelement:\n",
        "      minelement=x\n",
        "      minelement=x\n",
        "print(minelement)"
      ],
      "metadata": {
        "colab": {
          "base_uri": "https://localhost:8080/"
        },
        "id": "4UhVlF3C74FT",
        "outputId": "d808d96d-e417-47a8-b600-98a0e14a6aec"
      },
      "execution_count": 86,
      "outputs": [
        {
          "output_type": "stream",
          "name": "stdout",
          "text": [
            "12\n"
          ]
        }
      ]
    },
    {
      "cell_type": "code",
      "source": [
        ""
      ],
      "metadata": {
        "id": "9Noc7oa9LO5A"
      },
      "execution_count": null,
      "outputs": []
    },
    {
      "cell_type": "code",
      "source": [
        "a=[2,2,33,-94,2,3,3,23,3,104]\n",
        "print(max(a))"
      ],
      "metadata": {
        "colab": {
          "base_uri": "https://localhost:8080/"
        },
        "id": "D1cTAjOL4wZ6",
        "outputId": "46eda074-fb2c-4ae0-ab1b-54fc9cea6a77"
      },
      "execution_count": 44,
      "outputs": [
        {
          "output_type": "stream",
          "name": "stdout",
          "text": [
            "104\n"
          ]
        }
      ]
    },
    {
      "cell_type": "code",
      "source": [
        "a=[4,8,12,2,11,9,5,61,56,67]\n",
        "minelement=a[0]\n",
        "for x in a:\n",
        "  if x>maxelement:\n",
        "    minelement=x\n",
        "print(minelement)"
      ],
      "metadata": {
        "colab": {
          "base_uri": "https://localhost:8080/"
        },
        "id": "Q8NBkZaI8KzA",
        "outputId": "133f18e4-a846-4f28-d032-40f2088ab754"
      },
      "execution_count": 116,
      "outputs": [
        {
          "output_type": "stream",
          "name": "stdout",
          "text": [
            "67\n"
          ]
        }
      ]
    },
    {
      "cell_type": "code",
      "source": [
        "a=[min]\n",
        "a=[1,12,12,14,16,]\n",
        "print(max(a))"
      ],
      "metadata": {
        "colab": {
          "base_uri": "https://localhost:8080/"
        },
        "id": "zGrtaz2JUPqX",
        "outputId": "171ecf70-f479-4675-de56-1226b3164ca2"
      },
      "execution_count": 123,
      "outputs": [
        {
          "output_type": "stream",
          "name": "stdout",
          "text": [
            "16\n"
          ]
        }
      ]
    },
    {
      "cell_type": "code",
      "source": [
        "a=[4,8,12,2,11,9,5,61,56,67]\n",
        "minelement=a[0]\n",
        "for x in a:\n",
        "  if x<minelement:\n",
        "    if x>minelement:\n",
        "      minelement=x\n",
        "      minelement=x\n",
        "print(minelement)"
      ],
      "metadata": {
        "colab": {
          "base_uri": "https://localhost:8080/"
        },
        "id": "AaNU2ETHLQ79",
        "outputId": "cabee673-0461-4494-870f-8b0a25c49d4e"
      },
      "execution_count": 125,
      "outputs": [
        {
          "output_type": "stream",
          "name": "stdout",
          "text": [
            "67\n"
          ]
        }
      ]
    },
    {
      "cell_type": "code",
      "source": [
        "a=[4,8,12,2,11,9,5,61,56,67]\n",
        "maxelement=a[0]\n",
        "for x in a:\n",
        "  if x>maxelement:\n",
        "    if x>minelement:\n",
        "      minelement=x\n",
        "      maxelement=x\n",
        "print(maxelement)"
      ],
      "metadata": {
        "colab": {
          "base_uri": "https://localhost:8080/"
        },
        "id": "PojVWXnIXgHp",
        "outputId": "11c926c7-283c-4a22-91a5-f971a3199b28"
      },
      "execution_count": 135,
      "outputs": [
        {
          "output_type": "stream",
          "name": "stdout",
          "text": [
            "67\n"
          ]
        }
      ]
    },
    {
      "cell_type": "code",
      "source": [
        "a=[8,4,6,9,87,107]\n",
        "m1,m2=a[0],a[1]\n",
        "if m2>m1:\n",
        "  m1,m2=m2,m1\n",
        "print( m1,m2)\n",
        "n=len(a)\n",
        "for i in range(2,n):\n",
        "  x=a[i]\n",
        "  if x>=m1:\n",
        "    m2=m1\n",
        "    m1=x\n",
        "    continue\n",
        "  if x>m2:\n",
        "    m2=x\n",
        "print(m1,m2)\n"
      ],
      "metadata": {
        "colab": {
          "base_uri": "https://localhost:8080/"
        },
        "id": "I2HJkF_vndKs",
        "outputId": "bc7cb76f-c81f-4687-ba10-66e2ce88beea"
      },
      "execution_count": 163,
      "outputs": [
        {
          "output_type": "stream",
          "name": "stdout",
          "text": [
            "8 4\n",
            "107 87\n"
          ]
        }
      ]
    },
    {
      "cell_type": "code",
      "source": [
        "a=[8,4,6,9,87,107]\n",
        "m1,m2=a[0],a[1]\n",
        "if m2>m1:\n",
        "  m1,m2=m2,m1\n",
        "print( m1,m2)"
      ],
      "metadata": {
        "colab": {
          "base_uri": "https://localhost:8080/"
        },
        "id": "VRjmeCAi79Xw",
        "outputId": "75bfa010-6958-4c31-9054-86bcd446145c"
      },
      "execution_count": 1,
      "outputs": [
        {
          "output_type": "stream",
          "name": "stdout",
          "text": [
            "8 4\n"
          ]
        }
      ]
    }
  ]
}