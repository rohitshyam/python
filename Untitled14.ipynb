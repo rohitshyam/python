{
  "nbformat": 4,
  "nbformat_minor": 0,
  "metadata": {
    "colab": {
      "name": "Untitled14.ipynb",
      "provenance": [],
      "collapsed_sections": [],
      "authorship_tag": "ABX9TyMAVgxdqSYnJBlvYDZtFtCQ",
      "include_colab_link": true
    },
    "kernelspec": {
      "name": "python3",
      "display_name": "Python 3"
    },
    "language_info": {
      "name": "python"
    }
  },
  "cells": [
    {
      "cell_type": "markdown",
      "metadata": {
        "id": "view-in-github",
        "colab_type": "text"
      },
      "source": [
        "<a href=\"https://colab.research.google.com/github/rohitshyam/python/blob/main/Untitled14.ipynb\" target=\"_parent\"><img src=\"https://colab.research.google.com/assets/colab-badge.svg\" alt=\"Open In Colab\"/></a>"
      ]
    },
    {
      "cell_type": "code",
      "execution_count": 19,
      "metadata": {
        "colab": {
          "base_uri": "https://localhost:8080/"
        },
        "id": "K7dYU20MJSC2",
        "outputId": "1a2dc7e8-efe5-46a0-8e5f-d18ee5a6a168"
      },
      "outputs": [
        {
          "output_type": "stream",
          "name": "stdout",
          "text": [
            "union of three setsis= {'java', 'c++', 'python', 'pascal', 'c'}\n",
            "{'java', 'c++', 'python', 'pascal', 'c'}\n",
            "java {'C', 'A', 'B'}\n",
            "c++ {'A', 'B'}\n",
            "Answer =  c++ {'A', 'B'}\n",
            "python {'C', 'B'}\n",
            "Answer =  python {'C', 'B'}\n",
            "pascal {'C'}\n",
            "c {'C', 'A'}\n",
            "Answer =  c {'C', 'A'}\n"
          ]
        }
      ],
      "source": [
        "A={\"c\",\"c++\",\"java\"}\n",
        "B={\"c++\",\"java\",\"python\"}\n",
        "C={\"java\",\"python\",\"c\",\"pascal\"}\n",
        "print(\"union of three setsis=\",A.union (B).union(C))\n",
        "languages=A.union(B).union(C)\n",
        "print(languages)\n",
        "for language in languages:\n",
        "  s=set()\n",
        "  if language in A:\n",
        "    s.add(\"A\")\n",
        "  if language in B:\n",
        "    s.add(\"B\")\n",
        "  if language in C:\n",
        "    s.add(\"C\")\n",
        "  print(language,s)\n",
        "  if len(s)==2:\n",
        "    print('Answer = ', language,s)"
      ]
    },
    {
      "cell_type": "code",
      "source": [
        "A={\"c\",\"c++\",\"java\"}\n",
        "B={\"c++\",\"java\",\"python\"}\n",
        "C={\"java\",\"python\",\"c\",\"pascal\"}\n",
        "print(\"union of three setsis=\",A.union (B).union(C))\n",
        "languages=A.union(B).union(C)\n",
        "print(languages)\n",
        "for language in languages:\n",
        "  s=set()\n",
        "  if language in A:\n",
        "    s.add(\"A\")\n",
        "  if language in B:\n",
        "      s.add(\"B\")\n",
        "  if language in C:\n",
        "      s.add(\"C\")\n",
        "  print(language,s) \n",
        "  if len(s)==2:\n",
        "    print('Answer = ', language,s)\n",
        "\n",
        "\n",
        "\n",
        "  "
      ],
      "metadata": {
        "colab": {
          "base_uri": "https://localhost:8080/"
        },
        "id": "BUdNqQgMPXeh",
        "outputId": "3bdc3633-1a84-43c2-e1eb-de548ce74015"
      },
      "execution_count": 20,
      "outputs": [
        {
          "output_type": "stream",
          "name": "stdout",
          "text": [
            "union of three setsis= {'java', 'c++', 'python', 'pascal', 'c'}\n",
            "{'java', 'c++', 'python', 'pascal', 'c'}\n",
            "java {'C', 'A', 'B'}\n",
            "c++ {'A', 'B'}\n",
            "Answer =  c++ {'A', 'B'}\n",
            "python {'C', 'B'}\n",
            "Answer =  python {'C', 'B'}\n",
            "pascal {'C'}\n",
            "c {'C', 'A'}\n",
            "Answer =  c {'C', 'A'}\n"
          ]
        }
      ]
    }
  ]
}