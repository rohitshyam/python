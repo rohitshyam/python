{
  "nbformat": 4,
  "nbformat_minor": 0,
  "metadata": {
    "colab": {
      "name": "create table using list",
      "provenance": [],
      "authorship_tag": "ABX9TyMMuFRsfdlghIzqTONKr1IC",
      "include_colab_link": true
    },
    "kernelspec": {
      "name": "python3",
      "display_name": "Python 3"
    },
    "language_info": {
      "name": "python"
    }
  },
  "cells": [
    {
      "cell_type": "markdown",
      "metadata": {
        "id": "view-in-github",
        "colab_type": "text"
      },
      "source": [
        "<a href=\"https://colab.research.google.com/github/rohitshyam/python/blob/main/create_table_using_list.ipynb\" target=\"_parent\"><img src=\"https://colab.research.google.com/assets/colab-badge.svg\" alt=\"Open In Colab\"/></a>"
      ]
    },
    {
      "cell_type": "code",
      "execution_count": 3,
      "metadata": {
        "colab": {
          "base_uri": "https://localhost:8080/"
        },
        "id": "eST79lTvUF8Y",
        "outputId": "17a7f9d2-772c-41f3-ab3f-8dd9ba2090c0"
      },
      "outputs": [
        {
          "output_type": "stream",
          "name": "stdout",
          "text": [
            "the original string:harshshyamrohit\n",
            "string after sorting:aahhhhimorrssty\n",
            "the original string:hashyhit\n",
            "string after sorting:ahhhisty\n"
          ]
        }
      ],
      "source": [
        "\n",
        "test_string=\"harshshyamrohit\"\n",
        "print(\"the original string:\"+str(test_string))\n",
        "res=''.join(sorted(test_string))\n",
        "print(\"string after sorting:\"+str(res))\n",
        "test_string=\"hashyhit\"\n",
        "print(\"the original string:\"+str(test_string))\n",
        "res=''.join(sorted(test_string))\n",
        "print(\"string after sorting:\"+str(res))\n"
      ]
    },
    {
      "cell_type": "code",
      "source": [
        "a=[6,76,6,88,8,6,4,8,3,9,448,4,93]\n",
        "print()\n",
        "a.sort(reverse=False)\n",
        "print(a)\n",
        "a.sort(reverse=True)\n",
        "print(a)\n",
        "a=[6,76,6,88,8,6,4,8,3,9,448,4,93]\n",
        "print()\n",
        "a.sort(reverse=False)\n",
        "print(a)\n",
        "print(a)\n",
        "a.sort(reverse=True)\n",
        "print(a)"
      ],
      "metadata": {
        "colab": {
          "base_uri": "https://localhost:8080/"
        },
        "id": "XXzrZW5FXRHs",
        "outputId": "d8b9c0a1-34db-43c1-f8f3-20407b02e338"
      },
      "execution_count": 10,
      "outputs": [
        {
          "output_type": "stream",
          "name": "stdout",
          "text": [
            "\n",
            "[3, 4, 4, 6, 6, 6, 8, 8, 9, 76, 88, 93, 448]\n",
            "[448, 93, 88, 76, 9, 8, 8, 6, 6, 6, 4, 4, 3]\n",
            "\n",
            "[3, 4, 4, 6, 6, 6, 8, 8, 9, 76, 88, 93, 448]\n",
            "[3, 4, 4, 6, 6, 6, 8, 8, 9, 76, 88, 93, 448]\n",
            "[448, 93, 88, 76, 9, 8, 8, 6, 6, 6, 4, 4, 3]\n"
          ]
        }
      ]
    },
    {
      "cell_type": "code",
      "source": [
        "a=[]\n",
        "print(a)\n",
        "a=a+[10]\n",
        "print(a)\n",
        "a.append(12)\n",
        "print(a)\n",
        "a=[1]+a\n",
        "print(a)\n",
        "a.insert(1,\"apple\")\n",
        "print(a)\n",
        "a.pop()\n",
        "print(a)\n",
        "a=a+[1,2,3,4,5]\n",
        "print(a)\n",
        "a.pop(3)\n",
        "print(a)\n",
        "a.remove(\"apple\")\n",
        "print(a)\n",
        "a.pop(5)\n",
        "print(a)\n",
        "\n",
        "\n"
      ],
      "metadata": {
        "colab": {
          "base_uri": "https://localhost:8080/"
        },
        "id": "jQZ6CtNNaXyt",
        "outputId": "522065e9-8cc5-4fb9-e9a9-832f476e8513"
      },
      "execution_count": 30,
      "outputs": [
        {
          "output_type": "stream",
          "name": "stdout",
          "text": [
            "[]\n",
            "[10]\n",
            "[10, 12]\n",
            "[1, 10, 12]\n",
            "[1, 'apple', 10, 12]\n",
            "[1, 'apple', 10]\n",
            "[1, 'apple', 10, 1, 2, 3, 4, 5]\n",
            "[1, 'apple', 10, 2, 3, 4, 5]\n",
            "[1, 10, 2, 3, 4, 5]\n",
            "[1, 10, 2, 3, 4]\n"
          ]
        }
      ]
    },
    {
      "cell_type": "code",
      "source": [
        "\n",
        "a=[]\n",
        "for n in range(1,11):\n",
        "  table=[]\n",
        "  for i in range(1,11):\n",
        "    table.append(n*i)\n",
        "  a.append(table)\n",
        "for itm in a:\n",
        "  print(itm)"
      ],
      "metadata": {
        "colab": {
          "base_uri": "https://localhost:8080/"
        },
        "id": "7Z4WghX9eHWZ",
        "outputId": "b8eb235a-b69f-42de-b544-bbf3588e4349"
      },
      "execution_count": 56,
      "outputs": [
        {
          "output_type": "stream",
          "name": "stdout",
          "text": [
            "[1, 2, 3, 4, 5, 6, 7, 8, 9, 10]\n",
            "[2, 4, 6, 8, 10, 12, 14, 16, 18, 20]\n",
            "[3, 6, 9, 12, 15, 18, 21, 24, 27, 30]\n",
            "[4, 8, 12, 16, 20, 24, 28, 32, 36, 40]\n",
            "[5, 10, 15, 20, 25, 30, 35, 40, 45, 50]\n",
            "[6, 12, 18, 24, 30, 36, 42, 48, 54, 60]\n",
            "[7, 14, 21, 28, 35, 42, 49, 56, 63, 70]\n",
            "[8, 16, 24, 32, 40, 48, 56, 64, 72, 80]\n",
            "[9, 18, 27, 36, 45, 54, 63, 72, 81, 90]\n",
            "[10, 20, 30, 40, 50, 60, 70, 80, 90, 100]\n"
          ]
        }
      ]
    },
    {
      "cell_type": "code",
      "source": [
        ""
      ],
      "metadata": {
        "id": "9ZAJOHv5rMIK"
      },
      "execution_count": null,
      "outputs": []
    },
    {
      "cell_type": "code",
      "source": [
        "#print(ord('0'))\n",
        "print(chr(88))\n",
        "for i in range(256):\n",
        "  value=chr(i)\n",
        "  print(i,value,end=',')"
      ],
      "metadata": {
        "colab": {
          "base_uri": "https://localhost:8080/"
        },
        "id": "6AQuoQKlWmU2",
        "outputId": "dbbae26e-9797-4830-c2d9-f86b270a3f06"
      },
      "execution_count": 51,
      "outputs": [
        {
          "output_type": "stream",
          "name": "stdout",
          "text": [
            "X\n",
            "0 \u0000,1 \u0001,2 \u0002,3 \u0003,4 \u0004,5 \u0005,6 \u0006,7 \u0007,8 \b,9 \t,10 \n",
            ",11 \u000b,12 \f,13 \r,14 \u000e,15 \u000f,16 \u0010,17 \u0011,18 \u0012,19 \u0013,20 \u0014,21 \u0015,22 \u0016,23 \u0017,24 \u0018,25 \u0019,26 \u001a,27 \u001b,28 \u001c,29 \u001d,30 \u001e,31 \u001f,32  ,33 !,34 \",35 #,36 $,37 %,38 &,39 ',40 (,41 ),42 *,43 +,44 ,,45 -,46 .,47 /,48 0,49 1,50 2,51 3,52 4,53 5,54 6,55 7,56 8,57 9,58 :,59 ;,60 <,61 =,62 >,63 ?,64 @,65 A,66 B,67 C,68 D,69 E,70 F,71 G,72 H,73 I,74 J,75 K,76 L,77 M,78 N,79 O,80 P,81 Q,82 R,83 S,84 T,85 U,86 V,87 W,88 X,89 Y,90 Z,91 [,92 \\,93 ],94 ^,95 _,96 `,97 a,98 b,99 c,100 d,101 e,102 f,103 g,104 h,105 i,106 j,107 k,108 l,109 m,110 n,111 o,112 p,113 q,114 r,115 s,116 t,117 u,118 v,119 w,120 x,121 y,122 z,123 {,124 |,125 },126 ~,127 ,128 ,129 ,130 ,131 ,132 ,133 ,134 ,135 ,136 ,137 ,138 ,139 ,140 ,141 ,142 ,143 ,144 ,145 ,146 ,147 ,148 ,149 ,150 ,151 ,152 ,153 ,154 ,155 ,156 ,157 ,158 ,159 ,160  ,161 ¡,162 ¢,163 £,164 ¤,165 ¥,166 ¦,167 §,168 ¨,169 ©,170 ª,171 «,172 ¬,173 ­,174 ®,175 ¯,176 °,177 ±,178 ²,179 ³,180 ´,181 µ,182 ¶,183 ·,184 ¸,185 ¹,186 º,187 »,188 ¼,189 ½,190 ¾,191 ¿,192 À,193 Á,194 Â,195 Ã,196 Ä,197 Å,198 Æ,199 Ç,200 È,201 É,202 Ê,203 Ë,204 Ì,205 Í,206 Î,207 Ï,208 Ð,209 Ñ,210 Ò,211 Ó,212 Ô,213 Õ,214 Ö,215 ×,216 Ø,217 Ù,218 Ú,219 Û,220 Ü,221 Ý,222 Þ,223 ß,224 à,225 á,226 â,227 ã,228 ä,229 å,230 æ,231 ç,232 è,233 é,234 ê,235 ë,236 ì,237 í,238 î,239 ï,240 ð,241 ñ,242 ò,243 ó,244 ô,245 õ,246 ö,247 ÷,248 ø,249 ù,250 ú,251 û,252 ü,253 ý,254 þ,255 ÿ,"
          ]
        }
      ]
    }
  ]
}