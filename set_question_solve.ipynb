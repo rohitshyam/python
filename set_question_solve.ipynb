{
  "nbformat": 4,
  "nbformat_minor": 0,
  "metadata": {
    "colab": {
      "name": "set question solve",
      "provenance": [],
      "collapsed_sections": [],
      "authorship_tag": "ABX9TyPeHejaAccqGZBJv+4I57nY",
      "include_colab_link": true
    },
    "kernelspec": {
      "name": "python3",
      "display_name": "Python 3"
    },
    "language_info": {
      "name": "python"
    }
  },
  "cells": [
    {
      "cell_type": "markdown",
      "metadata": {
        "id": "view-in-github",
        "colab_type": "text"
      },
      "source": [
        "<a href=\"https://colab.research.google.com/github/rohitshyam/python/blob/main/set_question_solve.ipynb\" target=\"_parent\"><img src=\"https://colab.research.google.com/assets/colab-badge.svg\" alt=\"Open In Colab\"/></a>"
      ]
    },
    {
      "cell_type": "code",
      "execution_count": 20,
      "metadata": {
        "colab": {
          "base_uri": "https://localhost:8080/"
        },
        "id": "omRylUTz1U0K",
        "outputId": "445c7251-b05a-4dc3-cadb-885a7820cdcc"
      },
      "outputs": [
        {
          "output_type": "stream",
          "name": "stdout",
          "text": [
            "intersection of three setsis= {'java'}\n",
            "difference {'c'}\n",
            "union of three setsis= {'python', 'pascal', 'c++', 'c', 'java'}\n"
          ]
        }
      ],
      "source": [
        "A={\"c\",\"c++\",\"java\"}\n",
        "B={\"c++\",\"java\",\"python\"}\n",
        "C={\"java\",\"python\",\"c\",\"pascal\"}\n",
        "print(\"intersection of three setsis=\",A.intersection (B).intersection(C))\n",
        "A={\"c\",\"c++\",\"java\"}\n",
        "B={\"c++\",\"java\",\"python\"}\n",
        "diff=A.difference(B)\n",
        "print(\"difference\",diff)\n",
        "A={\"c\",\"c++\",\"java\"}\n",
        "B={\"c++\",\"java\",\"python\"}\n",
        "C={\"java\",\"python\",\"c\",\"pascal\"}\n",
        "print(\"union of three setsis=\",A.union (B).union(C))\n",
        "\n"
      ]
    },
    {
      "cell_type": "code",
      "source": [
        "A={\"c\",\"c++\",\"java\"}\n",
        "B={\"c++\",\"java\",\"python\"}\n",
        "C={\"java\",\"python\",\"c\",\"pascal\"}\n",
        "print(\"disjoint\",A.isdisjoint(B))\n",
        "print(\"disjoint\",A.isdisjoint(C))"
      ],
      "metadata": {
        "colab": {
          "base_uri": "https://localhost:8080/"
        },
        "id": "cFoTOCD2-3c1",
        "outputId": "57c7f291-a22f-4ebd-db91-ae29dfb3124c"
      },
      "execution_count": 16,
      "outputs": [
        {
          "output_type": "stream",
          "name": "stdout",
          "text": [
            "disjoint False\n",
            "disjoint False\n"
          ]
        }
      ]
    },
    {
      "cell_type": "code",
      "source": [
        "A={\"c\",\"c++\",\"java\"}\n",
        "B={\"c++\",\"java\",\"python\"}\n",
        "diff=A.difference(B)\n",
        "print(\"difference\",diff)\n",
        "\n"
      ],
      "metadata": {
        "colab": {
          "base_uri": "https://localhost:8080/"
        },
        "id": "7KiekTO94235",
        "outputId": "c76d55c8-449d-484e-8d47-d2d150291d70"
      },
      "execution_count": 11,
      "outputs": [
        {
          "output_type": "stream",
          "name": "stdout",
          "text": [
            "difference {'c'}\n"
          ]
        }
      ]
    }
  ]
}