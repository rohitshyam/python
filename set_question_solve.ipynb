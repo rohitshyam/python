{
  "nbformat": 4,
  "nbformat_minor": 0,
  "metadata": {
    "colab": {
      "name": "set question solve",
      "provenance": [],
      "collapsed_sections": [],
      "authorship_tag": "ABX9TyMFSKPPg23zw0HJWxqtLSMC",
      "include_colab_link": true
    },
    "kernelspec": {
      "name": "python3",
      "display_name": "Python 3"
    },
    "language_info": {
      "name": "python"
    }
  },
  "cells": [
    {
      "cell_type": "markdown",
      "metadata": {
        "id": "view-in-github",
        "colab_type": "text"
      },
      "source": [
        "<a href=\"https://colab.research.google.com/github/rohitshyam/python/blob/main/set_question_solve.ipynb\" target=\"_parent\"><img src=\"https://colab.research.google.com/assets/colab-badge.svg\" alt=\"Open In Colab\"/></a>"
      ]
    },
    {
      "cell_type": "code",
      "execution_count": 13,
      "metadata": {
        "colab": {
          "base_uri": "https://localhost:8080/"
        },
        "id": "omRylUTz1U0K",
        "outputId": "6a616112-224d-44ec-f90c-310463619b27"
      },
      "outputs": [
        {
          "output_type": "stream",
          "name": "stdout",
          "text": [
            "intersection of three setsis= {'java'}\n",
            "difference {'c'}\n",
            "union of three setsis= {'python', 'pascal', 'c++', 'c', 'java'}\n"
          ]
        }
      ],
      "source": [
        "A={\"c\",\"c++\",\"java\"}\n",
        "B={\"c++\",\"java\",\"python\"}\n",
        "C={\"java\",\"python\",\"c\",\"pascal\"}\n",
        "print(\"intersection of three setsis=\",A.intersection (B).intersection(C))\n",
        "A={\"c\",\"c++\",\"java\"}\n",
        "B={\"c++\",\"java\",\"python\"}\n",
        "diff=A.difference(B)\n",
        "print(\"difference\",diff)\n",
        "A={\"c\",\"c++\",\"java\"}\n",
        "B={\"c++\",\"java\",\"python\"}\n",
        "C={\"java\",\"python\",\"c\",\"pascal\"}\n",
        "print(\"union of three setsis=\",A.union (B).union(C))"
      ]
    },
    {
      "cell_type": "code",
      "source": [
        "A={\"c\",\"c++\",\"java\"}\n",
        "B={\"c++\",\"java\",\"python\"}\n",
        "C={\"java\",\"python\",\"c\",\"pascal\"}\n",
        "print(\"disjoint\",A.isdisjoint(B))\n",
        "print(\"disjoint\",A.isdisjoint(C))"
      ],
      "metadata": {
        "colab": {
          "base_uri": "https://localhost:8080/"
        },
        "id": "cFoTOCD2-3c1",
        "outputId": "369129ca-2b6a-4c33-fb47-1a1ae79ad0cc"
      },
      "execution_count": 14,
      "outputs": [
        {
          "output_type": "stream",
          "name": "stdout",
          "text": [
            "disjoint False\n",
            "disjoint False\n"
          ]
        }
      ]
    },
    {
      "cell_type": "code",
      "source": [
        "A={\"c\",\"c++\",\"java\"}\n",
        "B={\"c++\",\"java\",\"python\"}\n",
        "diff=A.difference(B)\n",
        "print(\"difference\",diff)\n",
        "\n"
      ],
      "metadata": {
        "colab": {
          "base_uri": "https://localhost:8080/"
        },
        "id": "7KiekTO94235",
        "outputId": "c76d55c8-449d-484e-8d47-d2d150291d70"
      },
      "execution_count": 11,
      "outputs": [
        {
          "output_type": "stream",
          "name": "stdout",
          "text": [
            "difference {'c'}\n"
          ]
        }
      ]
    }
  ]
}